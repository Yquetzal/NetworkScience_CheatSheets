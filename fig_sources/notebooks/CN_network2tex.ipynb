{
  "nbformat": 4,
  "nbformat_minor": 0,
  "metadata": {
    "colab": {
      "name": "CN-network2tex.ipynb",
      "provenance": [],
      "collapsed_sections": []
    },
    "kernelspec": {
      "name": "python3",
      "display_name": "Python 3"
    }
  },
  "cells": [
    {
      "cell_type": "code",
      "metadata": {
        "id": "LUhZHMmaCXI8",
        "colab": {
          "base_uri": "https://localhost:8080/",
          "height": 496
        },
        "outputId": "e5c406db-7fba-4294-90b2-6fd4c8689ccc"
      },
      "source": [
        "!pip install network2tikz\n",
        "!pip install array_to_latex"
      ],
      "execution_count": null,
      "outputs": [
        {
          "output_type": "stream",
          "text": [
            "Collecting network2tikz\n",
            "\u001b[?25l  Downloading https://files.pythonhosted.org/packages/90/e0/f9cb0821acef7b32f2f1474e2efda151d1b04707d9dd29701f9801fc2cfc/network2tikz-0.1.8-py2.py3-none-any.whl (41kB)\n",
            "\r\u001b[K     |████████                        | 10kB 18.2MB/s eta 0:00:01\r\u001b[K     |████████████████                | 20kB 2.8MB/s eta 0:00:01\r\u001b[K     |████████████████████████        | 30kB 3.9MB/s eta 0:00:01\r\u001b[K     |███████████████████████████████▉| 40kB 4.2MB/s eta 0:00:01\r\u001b[K     |████████████████████████████████| 51kB 3.1MB/s \n",
            "\u001b[?25hRequirement already satisfied: numpy in /usr/local/lib/python3.6/dist-packages (from network2tikz) (1.18.5)\n",
            "Installing collected packages: network2tikz\n",
            "Successfully installed network2tikz-0.1.8\n",
            "Collecting array_to_latex\n",
            "  Downloading https://files.pythonhosted.org/packages/6d/74/11c8beefc62b954246b806f712952dfae7561bc8301606ca043f85a2e0db/array_to_latex-0.82-py3-none-any.whl\n",
            "Collecting clipboard\n",
            "  Downloading https://files.pythonhosted.org/packages/8a/38/17f3885713d0f39994563029942b1d31c93d4e56d80da505abfbfb3a3bc4/clipboard-0.0.4.tar.gz\n",
            "Requirement already satisfied: pandas in /usr/local/lib/python3.6/dist-packages (from array_to_latex) (1.0.5)\n",
            "Requirement already satisfied: numpy in /usr/local/lib/python3.6/dist-packages (from array_to_latex) (1.18.5)\n",
            "Collecting pyperclip>=1.3\n",
            "  Downloading https://files.pythonhosted.org/packages/f6/5b/55866e1cde0f86f5eec59dab5de8a66628cb0d53da74b8dbc15ad8dabda3/pyperclip-1.8.0.tar.gz\n",
            "Requirement already satisfied: pytz>=2017.2 in /usr/local/lib/python3.6/dist-packages (from pandas->array_to_latex) (2018.9)\n",
            "Requirement already satisfied: python-dateutil>=2.6.1 in /usr/local/lib/python3.6/dist-packages (from pandas->array_to_latex) (2.8.1)\n",
            "Requirement already satisfied: six>=1.5 in /usr/local/lib/python3.6/dist-packages (from python-dateutil>=2.6.1->pandas->array_to_latex) (1.15.0)\n",
            "Building wheels for collected packages: clipboard, pyperclip\n",
            "  Building wheel for clipboard (setup.py) ... \u001b[?25l\u001b[?25hdone\n",
            "  Created wheel for clipboard: filename=clipboard-0.0.4-cp36-none-any.whl size=1851 sha256=777690a17371b6c9f8753926568c1708df297e89fd241cf4e7666c263581a088\n",
            "  Stored in directory: /root/.cache/pip/wheels/a9/1b/ee/c8a41d3052443c52881cd75d0f3621d70bfd4894ea6e4ef6e7\n",
            "  Building wheel for pyperclip (setup.py) ... \u001b[?25l\u001b[?25hdone\n",
            "  Created wheel for pyperclip: filename=pyperclip-1.8.0-cp36-none-any.whl size=8693 sha256=68f784aff84b92861848c2a721a950368b2c4247a865868b385c3929f7150477\n",
            "  Stored in directory: /root/.cache/pip/wheels/b2/ac/0a/b784f0afe26eaf52e88a7e15c7369090deea0354fa1c6fc689\n",
            "Successfully built clipboard pyperclip\n",
            "Installing collected packages: pyperclip, clipboard, array-to-latex\n",
            "Successfully installed array-to-latex-0.82 clipboard-0.0.4 pyperclip-1.8.0\n"
          ],
          "name": "stdout"
        }
      ]
    },
    {
      "cell_type": "code",
      "metadata": {
        "id": "7uOiJ_KhCdvA"
      },
      "source": [
        "import networkx as nx\n",
        "from network2tikz import plot\n",
        "import array_to_latex as a2l\n",
        "import numpy as np"
      ],
      "execution_count": null,
      "outputs": []
    },
    {
      "cell_type": "code",
      "metadata": {
        "id": "Sf3HlZa0CaDy",
        "colab": {
          "base_uri": "https://localhost:8080/",
          "height": 248
        },
        "outputId": "e2fb1a4d-3785-46fb-b885-100d64aa92b2"
      },
      "source": [
        "g = nx.Graph()\n",
        "g.add_edge(1,2)\n",
        "g.add_edge(1,6)\n",
        "g.add_edge(1,5)\n",
        "g.add_edge(5,6)\n",
        "\n",
        "g.add_edge(2,4)\n",
        "g.add_edge(2,3)\n",
        "g.add_edge(3,4)\n",
        "g.add_edge(4,2)\n",
        "g.add_edge(2,5)\n",
        "g.add_edge(2,6)\n",
        "g.add_edge(5,5)\n",
        "\n",
        "\n",
        "\n",
        "pos = nx.spring_layout(g,iterations=100)\n",
        "nx.draw_networkx(g,pos=pos)"
      ],
      "execution_count": null,
      "outputs": [
        {
          "output_type": "display_data",
          "data": {
            "image/png": "[encoded data removed]",
            "text/plain": [
              "<Figure size 432x288 with 1 Axes>"
            ]
          },
          "metadata": {
            "tags": []
          }
        }
      ]
    },
    {
      "cell_type": "code",
      "metadata": {
        "id": "hgejC0I5Cme_"
      },
      "source": [
        "node_order = sorted(g.nodes())\n",
        "style = {}\n",
        "style['node_opacity'] = .8\n",
        "style['vertex_size'] = 0.3\n",
        "style['vertex_label'] = [x for x in node_order]\n",
        "style[\"units\"]=\"pt\"\n",
        "plot(g,\"k.tex\",layout=pos,**style)\n"
      ],
      "execution_count": null,
      "outputs": []
    },
    {
      "cell_type": "code",
      "metadata": {
        "id": "1VivX_YxC14z",
        "colab": {
          "base_uri": "https://localhost:8080/",
          "height": 153
        },
        "outputId": "c15e07ac-90fe-4f92-9cd3-a122efbe0c57"
      },
      "source": [
        "A = nx.to_numpy_matrix(g,nodelist=node_order)\n",
        "a2l.to_ltx(A, frmt=\"{:0.0f}\",arraytype = 'pmatrix')"
      ],
      "execution_count": null,
      "outputs": [
        {
          "output_type": "stream",
          "text": [
            "\\begin{pmatrix}\n",
            "  0  &  1  &  0  &  0  &  1  &  1 \\\\\n",
            "  1  &  0  &  1  &  1  &  1  &  1 \\\\\n",
            "  0  &  1  &  0  &  1  &  0  &  0 \\\\\n",
            "  0  &  1  &  1  &  0  &  0  &  0 \\\\\n",
            "  1  &  1  &  0  &  0  &  1  &  1 \\\\\n",
            "  1  &  1  &  0  &  0  &  1  &  0 \n",
            "\\end{pmatrix}\n"
          ],
          "name": "stdout"
        }
      ]
    },
    {
      "cell_type": "code",
      "metadata": {
        "id": "zJok-8UAG4PG",
        "colab": {
          "base_uri": "https://localhost:8080/",
          "height": 119
        },
        "outputId": "31073360-b43c-49da-ae8e-576fe3ca4811"
      },
      "source": [
        "A"
      ],
      "execution_count": null,
      "outputs": [
        {
          "output_type": "execute_result",
          "data": {
            "text/plain": [
              "matrix([[0., 1., 0., 0., 1., 1.],\n",
              "        [1., 0., 1., 1., 1., 1.],\n",
              "        [0., 1., 0., 1., 0., 0.],\n",
              "        [0., 1., 1., 0., 0., 0.],\n",
              "        [1., 1., 0., 0., 1., 1.],\n",
              "        [1., 1., 0., 0., 1., 0.]])"
            ]
          },
          "metadata": {
            "tags": []
          },
          "execution_count": 15
        }
      ]
    },
    {
      "cell_type": "code",
      "metadata": {
        "id": "a8PPifI9JB_A",
        "colab": {
          "base_uri": "https://localhost:8080/",
          "height": 187
        },
        "outputId": "e624f917-14ce-4d4a-bb55-efd17e92f795"
      },
      "source": [
        "q list(g.edges())"
      ],
      "execution_count": null,
      "outputs": [
        {
          "output_type": "execute_result",
          "data": {
            "text/plain": [
              "[(1, 2),\n",
              " (1, 6),\n",
              " (1, 5),\n",
              " (2, 4),\n",
              " (2, 3),\n",
              " (2, 5),\n",
              " (2, 6),\n",
              " (6, 5),\n",
              " (5, 5),\n",
              " (4, 3)]"
            ]
          },
          "metadata": {
            "tags": []
          },
          "execution_count": 16
        }
      ]
    },
    {
      "cell_type": "code",
      "metadata": {
        "id": "wZdWrKrwdf9H",
        "colab": {
          "base_uri": "https://localhost:8080/",
          "height": 153
        },
        "outputId": "e69b41cb-412b-4e4b-e588-7d754332ab8e"
      },
      "source": [
        "degrees = g.degree()\n",
        "D = np.diag([degrees[n] for n in node_order])\n",
        "a2l.to_ltx(D, frmt=\"{:0.0f}\",arraytype = 'pmatrix')"
      ],
      "execution_count": null,
      "outputs": [
        {
          "output_type": "stream",
          "text": [
            "\\begin{pmatrix}\n",
            "  3  &  0  &  0  &  0  &  0  &  0 \\\\\n",
            "  0  &  5  &  0  &  0  &  0  &  0 \\\\\n",
            "  0  &  0  &  2  &  0  &  0  &  0 \\\\\n",
            "  0  &  0  &  0  &  2  &  0  &  0 \\\\\n",
            "  0  &  0  &  0  &  0  &  5  &  0 \\\\\n",
            "  0  &  0  &  0  &  0  &  0  &  3 \n",
            "\\end{pmatrix}\n"
          ],
          "name": "stdout"
        }
      ]
    },
    {
      "cell_type": "code",
      "metadata": {
        "id": "VZNz3PjtgEY_",
        "colab": {
          "base_uri": "https://localhost:8080/",
          "height": 153
        },
        "outputId": "1f137d58-d768-46c1-f024-2dbf9d158fdc"
      },
      "source": [
        "L = D-A\n",
        "a2l.to_ltx(L, frmt=\"{:0.0f}\",arraytype = 'pmatrix')"
      ],
      "execution_count": null,
      "outputs": [
        {
          "output_type": "stream",
          "text": [
            "\\begin{pmatrix}\n",
            "  3  & -1  &  0  &  0  & -1  & -1 \\\\\n",
            " -1  &  5  & -1  & -1  & -1  & -1 \\\\\n",
            "  0  & -1  &  2  & -1  &  0  &  0 \\\\\n",
            "  0  & -1  & -1  &  2  &  0  &  0 \\\\\n",
            " -1  & -1  &  0  &  0  &  4  & -1 \\\\\n",
            " -1  & -1  &  0  &  0  & -1  &  3 \n",
            "\\end{pmatrix}\n"
          ],
          "name": "stdout"
        }
      ]
    },
    {
      "cell_type": "code",
      "metadata": {
        "id": "eP9woRCQgt5r",
        "colab": {
          "base_uri": "https://localhost:8080/",
          "height": 153
        },
        "outputId": "9bd9ca85-a287-4402-addd-07a4a6c75f49"
      },
      "source": [
        "A2 = A*A\n",
        "a2l.to_ltx(A2, frmt=\"{:0.0f}\",arraytype = 'pmatrix')"
      ],
      "execution_count": null,
      "outputs": [
        {
          "output_type": "stream",
          "text": [
            "\\begin{pmatrix}\n",
            "  3  &  2  &  1  &  1  &  3  &  2 \\\\\n",
            "  2  &  5  &  1  &  1  &  3  &  2 \\\\\n",
            "  1  &  1  &  2  &  1  &  1  &  1 \\\\\n",
            "  1  &  1  &  1  &  2  &  1  &  1 \\\\\n",
            "  3  &  3  &  1  &  1  &  4  &  3 \\\\\n",
            "  2  &  2  &  1  &  1  &  3  &  3 \n",
            "\\end{pmatrix}\n"
          ],
          "name": "stdout"
        }
      ]
    },
    {
      "cell_type": "code",
      "metadata": {
        "id": "HWt7CY67iE-w",
        "colab": {
          "base_uri": "https://localhost:8080/",
          "height": 153
        },
        "outputId": "e1065d0d-75f2-48c7-88f6-dc348938eb8e"
      },
      "source": [
        "from fractions import Fraction\n",
        "transition = A/A.sum(axis=0)\n",
        "a2l.to_ltx(transition,arraytype = 'pmatrix')"
      ],
      "execution_count": null,
      "outputs": [
        {
          "output_type": "stream",
          "text": [
            "\\begin{pmatrix}\n",
            "  0.00 &  0.20 &  0.00 &  0.00 &  0.25 &  0.33\\\\\n",
            "  0.33 &  0.00 &  0.50 &  0.50 &  0.25 &  0.33\\\\\n",
            "  0.00 &  0.20 &  0.00 &  0.50 &  0.00 &  0.00\\\\\n",
            "  0.00 &  0.20 &  0.50 &  0.00 &  0.00 &  0.00\\\\\n",
            "  0.33 &  0.20 &  0.00 &  0.00 &  0.25 &  0.33\\\\\n",
            "  0.33 &  0.20 &  0.00 &  0.00 &  0.25 &  0.00\n",
            "\\end{pmatrix}\n"
          ],
          "name": "stdout"
        }
      ]
    },
    {
      "cell_type": "code",
      "metadata": {
        "id": "kphmzrunn7YU"
      },
      "source": [
        ""
      ],
      "execution_count": null,
      "outputs": []
    }
  ]
}