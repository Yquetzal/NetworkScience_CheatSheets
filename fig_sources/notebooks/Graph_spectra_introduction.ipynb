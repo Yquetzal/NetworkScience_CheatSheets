{
  "nbformat": 4,
  "nbformat_minor": 0,
  "metadata": {
    "colab": {
      "name": "Graph_spectra_introduction.ipynb",
      "provenance": []
    },
    "kernelspec": {
      "name": "python3",
      "display_name": "Python 3"
    }
  },
  "cells": [
    {
      "cell_type": "code",
      "metadata": {
        "id": "XaFz5o9clgrO"
      },
      "source": [
        "import scipy, numpy\n",
        "import networkx as nx\n",
        "import seaborn as sns\n",
        "import matplotlib.pyplot as plt"
      ],
      "execution_count": null,
      "outputs": []
    },
    {
      "cell_type": "markdown",
      "metadata": {
        "id": "kpBykEYB-dx4"
      },
      "source": [
        "This class is just an introduction focusing on intuitive understanding of some aspects of spectral graph properties. There are many ressources online to enter in much more details, for instance:\n",
        "\n",
        "* http://timroughgarden.org/s17/l/l11.pdf\n",
        "* https://www.youtube.com/watch?v=01AqmIU9Su4\n",
        "* https://www.epfl.ch/labs/dcg/wp-content/uploads/2018/10/ADM-Eigenvalues-v3.pdf"
      ]
    },
    {
      "cell_type": "markdown",
      "metadata": {
        "id": "zA7WIYV0k3qy"
      },
      "source": [
        "Generate a random graph and get its adjacency matrix"
      ]
    },
    {
      "cell_type": "code",
      "metadata": {
        "id": "wZHTtE2oXPBs"
      },
      "source": [
        "g =nx.random_graphs.barabasi_albert_graph(7,5)"
      ],
      "execution_count": null,
      "outputs": []
    },
    {
      "cell_type": "code",
      "metadata": {
        "id": "mcLK4nEsbAIX",
        "outputId": "698af0ff-55ed-4115-b2c1-75485302dadd",
        "colab": {
          "base_uri": "https://localhost:8080/",
          "height": 319
        }
      },
      "source": [
        "nx.draw(g, with_labels = True)"
      ],
      "execution_count": null,
      "outputs": [
        {
          "output_type": "display_data",
          "data": {
            "image/png": "[encoded data removed]",
            "text/plain": [
              "<Figure size 432x288 with 1 Axes>"
            ]
          },
          "metadata": {
            "tags": []
          }
        }
      ]
    },
    {
      "cell_type": "markdown",
      "metadata": {
        "id": "HXxVVbXcENZE"
      },
      "source": [
        "# Adjacency matrix\n",
        "Let's look at the adjacency matrix. Node 0 correpsonds to row (and column) 0, Node 1 corresponds to row (and column) 1, etc."
      ]
    },
    {
      "cell_type": "code",
      "metadata": {
        "id": "knSxeH6FayRO",
        "outputId": "9d366998-c1dc-49f9-cbd6-0174dc93c277",
        "colab": {
          "base_uri": "https://localhost:8080/",
          "height": 136
        }
      },
      "source": [
        "A = nx.to_numpy_matrix(g)\n",
        "A"
      ],
      "execution_count": null,
      "outputs": [
        {
          "output_type": "execute_result",
          "data": {
            "text/plain": [
              "matrix([[0., 0., 0., 0., 0., 1., 1.],\n",
              "        [0., 0., 0., 0., 0., 1., 1.],\n",
              "        [0., 0., 0., 0., 0., 1., 1.],\n",
              "        [0., 0., 0., 0., 0., 1., 1.],\n",
              "        [0., 0., 0., 0., 0., 1., 0.],\n",
              "        [1., 1., 1., 1., 1., 0., 1.],\n",
              "        [1., 1., 1., 1., 0., 1., 0.]])"
            ]
          },
          "metadata": {
            "tags": []
          },
          "execution_count": 5
        }
      ]
    },
    {
      "cell_type": "markdown",
      "metadata": {
        "id": "0MQuhnVuDvEh"
      },
      "source": [
        "What happens if we take the square of the matrix ?\n",
        "Values on the diagonal corresponds to degrees, and $A_{ij}$ corresponds to the number of path of lenght exactly 2 between i and j"
      ]
    },
    {
      "cell_type": "code",
      "metadata": {
        "id": "fg-R5XbsDjVL",
        "outputId": "3ee8be14-9b60-4e55-b15b-339adff53794",
        "colab": {
          "base_uri": "https://localhost:8080/",
          "height": 136
        }
      },
      "source": [
        "A*A"
      ],
      "execution_count": null,
      "outputs": [
        {
          "output_type": "execute_result",
          "data": {
            "text/plain": [
              "matrix([[2., 2., 2., 2., 1., 1., 1.],\n",
              "        [2., 2., 2., 2., 1., 1., 1.],\n",
              "        [2., 2., 2., 2., 1., 1., 1.],\n",
              "        [2., 2., 2., 2., 1., 1., 1.],\n",
              "        [1., 1., 1., 1., 1., 0., 1.],\n",
              "        [1., 1., 1., 1., 0., 6., 4.],\n",
              "        [1., 1., 1., 1., 1., 4., 5.]])"
            ]
          },
          "metadata": {
            "tags": []
          },
          "execution_count": 6
        }
      ]
    },
    {
      "cell_type": "markdown",
      "metadata": {
        "id": "Rd_QiKpnlHmR"
      },
      "source": [
        "# Eigenvectors/eigenvalues.\n",
        "\n",
        "I won't enter in too much details on what eigenvectors/eigenvalues are mathematically, I'll just explain the minimum to understand what is happening next. Of course, fill free to read more on the topic if you're interested.\n",
        "\n",
        "Eigenvectors and eigenvalues come in pairs. When we compute eigenvalues as shown below, the i-th eigenvalue corresponds to the i-th eigenvectors."
      ]
    },
    {
      "cell_type": "code",
      "metadata": {
        "id": "Xk6G7j8rbKx8",
        "outputId": "f3d9e08f-586f-435b-9306-7a7485d262fd",
        "colab": {
          "base_uri": "https://localhost:8080/",
          "height": 34
        }
      },
      "source": [
        "eigvalues,eigvectors = numpy.linalg.eig(A)\n",
        "[round(x.real,3) for x in eigvalues] #plot all eigenvalues in a readable format"
      ],
      "execution_count": null,
      "outputs": [
        {
          "output_type": "execute_result",
          "data": {
            "text/plain": [
              "[3.461, -2.471, -1.339, 0.349, -0.0, -0.0, 0.0]"
            ]
          },
          "metadata": {
            "tags": []
          },
          "execution_count": 7
        }
      ]
    },
    {
      "cell_type": "markdown",
      "metadata": {
        "id": "6Wbgm7calROm"
      },
      "source": [
        "Let's check the definition (and first property) of eigenvalues:\n",
        "\n",
        " $Ax = \\lambda x$\n",
        "\n",
        "  with x an eigenvector, and $\\lambda$ and eigenvalue"
      ]
    },
    {
      "cell_type": "code",
      "metadata": {
        "id": "IqCXBx2dcvyP",
        "colab": {
          "base_uri": "https://localhost:8080/",
          "height": 289
        },
        "outputId": "ef40ffbc-29a4-4aaf-fd5a-7dc95ecb4e28"
      },
      "source": [
        "eig_index=1 #index of the eigenvector/eigenvalue we want to select\n",
        "eigenvector = eigvectors[:,eig_index]\n",
        "eigenvalue = eigvalues[eig_index]\n",
        "print(\"Ax:\")\n",
        "print(A*eigenvector)\n",
        "print(\"eigenvalue x eigenvector:\")\n",
        "print(eigenvalue*eigenvector)"
      ],
      "execution_count": null,
      "outputs": [
        {
          "output_type": "stream",
          "text": [
            "Ax:\n",
            "[[ 0.90440308]\n",
            " [ 0.90440308]\n",
            " [ 0.90440308]\n",
            " [ 0.90440308]\n",
            " [ 0.52428303]\n",
            " [-1.29575566]\n",
            " [-0.93945956]]\n",
            "eigenvalue x eigenvector:\n",
            "[[ 0.90440308]\n",
            " [ 0.90440308]\n",
            " [ 0.90440308]\n",
            " [ 0.90440308]\n",
            " [ 0.52428303]\n",
            " [-1.29575566]\n",
            " [-0.93945956]]\n"
          ],
          "name": "stdout"
        }
      ]
    },
    {
      "cell_type": "markdown",
      "metadata": {
        "id": "-7gJ2fL3mgBO"
      },
      "source": [
        "Another way to see things is the relation \n",
        "\n",
        "$A-\\lambda I x =0$ \n",
        "\n",
        "(Nearly 0 due to approximations...)"
      ]
    },
    {
      "cell_type": "code",
      "metadata": {
        "id": "bapt3_qWf7Xc",
        "outputId": "adbd2276-f87e-42d7-c19e-2d1ee86ba473",
        "colab": {
          "base_uri": "https://localhost:8080/",
          "height": 34
        }
      },
      "source": [
        "a = (A-eigenvalue*numpy.identity(len(eigenvector)))*eigenvector\n",
        "a = list(numpy.transpose(a))\n",
        "print([numpy.round(x,4) for x in a])"
      ],
      "execution_count": null,
      "outputs": [
        {
          "output_type": "stream",
          "text": [
            "[array([[-0., -0., -0., -0., -0.,  0.,  0.]])]\n"
          ],
          "name": "stdout"
        }
      ]
    },
    {
      "cell_type": "markdown",
      "metadata": {
        "id": "dwcS9gNppWuS"
      },
      "source": [
        "Another important property is that eigenvectors are orthogonal:"
      ]
    },
    {
      "cell_type": "code",
      "metadata": {
        "id": "CAOoOgfHdUup",
        "outputId": "e6cee5bc-bd54-4994-c870-6e9f13a21172",
        "colab": {
          "base_uri": "https://localhost:8080/",
          "height": 68
        }
      },
      "source": [
        "print(eigvectors[:,1].T*eigvectors[:,2])\n",
        "print(eigvectors[:,0].T*eigvectors[:,3])\n",
        "print(eigvectors[:,3].T*eigvectors[:,4])"
      ],
      "execution_count": null,
      "outputs": [
        {
          "output_type": "stream",
          "text": [
            "[[3.05311332e-16]]\n",
            "[[2.77555756e-17]]\n",
            "[[-1.52655666e-16]]\n"
          ],
          "name": "stdout"
        }
      ]
    },
    {
      "cell_type": "markdown",
      "metadata": {
        "id": "VmG5nBcc5JTY"
      },
      "source": [
        "Let's try to get a better intuition of what all these things mean.\n",
        "\n",
        "We draw the graph corresponding to the second eigenvalue, considering that:\n",
        " \n",
        "* The eigenvalue defines the strengh of a self-loop from each node to itself\n",
        "* Each value of the corresponding eigenvector gives a score to each node\n",
        "\n",
        "(self loop represented as a red value on the node)"
      ]
    },
    {
      "cell_type": "code",
      "metadata": {
        "id": "Ul5K-w6uchjj",
        "outputId": "0d1c23a3-78ed-4996-9113-841e6effb785",
        "colab": {
          "base_uri": "https://localhost:8080/",
          "height": 319
        }
      },
      "source": [
        "plt.figure()    \n",
        "g_to_plot = nx.from_numpy_array(A-eigenvalue*numpy.identity(7))\n",
        "pos = nx.spring_layout(g_to_plot)\n",
        "nx.draw(g_to_plot,pos=pos,edge_color='black',width=1,linewidths=1,\\\n",
        "node_size=500,alpha=0.5)\n",
        "pos_attrs = {}\n",
        "for node, coords in pos.items():\n",
        "    pos_attrs[node] = (coords[0], coords[1] + 0.08)\n",
        "nx.draw_networkx_labels(g_to_plot, pos_attrs, labels={i:round(eigenvector[i].item(0),3) for i in range(len(eigenvector))})\n",
        "\n",
        "nx.draw_networkx_edge_labels(g_to_plot,pos=pos,edge_labels={k:round(v,3) for k,v in nx.get_edge_attributes(g_to_plot,'weight').items()},font_color='red')\n",
        "plt.axis('off')\n",
        "plt.show()"
      ],
      "execution_count": null,
      "outputs": [
        {
          "output_type": "display_data",
          "data": {
            "image/png": "[encoded data removed]",
            "text/plain": [
              "<Figure size 432x288 with 1 Axes>"
            ]
          },
          "metadata": {
            "tags": []
          }
        }
      ]
    },
    {
      "cell_type": "markdown",
      "metadata": {
        "id": "cIZU8WrZ6J1W"
      },
      "source": [
        "A good way to interpret an eigenvector now, is to say that it defines a stability point of the graph based on its structure: \n",
        "\n",
        "If each node \"sends\" to its neighbors (including itself) a value corresponding to the edge weight*its personal score (eigenvector component), then the score of each node will be 0. You can check it manually for 1 node on the graph above\n",
        "\n",
        "This also allows to have some intuition on what's happening: nodes connected to exactly the same nodes will have the same eigenvector component (you can check above, too)"
      ]
    },
    {
      "cell_type": "markdown",
      "metadata": {
        "id": "cU3JNeoOGbVX"
      },
      "source": [
        "Some propreties of the eigenvalues of the adjacency matrix are quite interesting, here is a (non-exaustive) list:\n",
        "\n",
        "* The largest eigenvalue λ1 of a graph G lies between the average and maximum degrees\n",
        "* The number of closed walks of length k in G equals $\\sum_{i=1}^n \\lambda^k_i$\n",
        "* A graph is bipartite if and only if its spectrum is symmetric (ie if λ is an eigenvalue, then so is −λ, and with the same multiplicity).\n",
        "* If G is connected, then the diameter of G is strictly less than its number of distinct eigenvalues\n",
        "\n"
      ]
    },
    {
      "cell_type": "markdown",
      "metadata": {
        "id": "RUHMTj-Hrnkz"
      },
      "source": [
        "## Let's introduce the Laplacian\n",
        "\n",
        "Although some properties of the eigenvalues of the adjacencey matrix are interesting, most practical usages use a variation of it called the *Laplacian*. As we will see, properties of the Laplacian are even more powerful and its interpretation might also be easier\n",
        "\n",
        "First, let's define $D$, the \"degree matrix\":\n",
        "\n",
        "Each value on the diagonal is the degree of the corresponding node, other values are 0"
      ]
    },
    {
      "cell_type": "code",
      "metadata": {
        "id": "ek5fMPs8rxzW"
      },
      "source": [
        "d = numpy.sum(A,axis=0)\n",
        "D = numpy.diag(d.tolist()[0])"
      ],
      "execution_count": null,
      "outputs": []
    },
    {
      "cell_type": "markdown",
      "metadata": {
        "id": "T3xD58qSsRCq"
      },
      "source": [
        "The laplacian is simply defined as $D-A$"
      ]
    },
    {
      "cell_type": "code",
      "metadata": {
        "id": "xBQ2ThqvsPex",
        "outputId": "db89327a-e8ac-47d1-cfb7-5e03e9c8424d",
        "colab": {
          "base_uri": "https://localhost:8080/",
          "height": 136
        }
      },
      "source": [
        "L = D-A\n",
        "L"
      ],
      "execution_count": null,
      "outputs": [
        {
          "output_type": "execute_result",
          "data": {
            "text/plain": [
              "matrix([[ 1.,  0.,  0.,  0.,  0., -1.,  0.],\n",
              "        [ 0.,  2.,  0.,  0.,  0., -1., -1.],\n",
              "        [ 0.,  0.,  2.,  0.,  0., -1., -1.],\n",
              "        [ 0.,  0.,  0.,  2.,  0., -1., -1.],\n",
              "        [ 0.,  0.,  0.,  0.,  2., -1., -1.],\n",
              "        [-1., -1., -1., -1., -1.,  6., -1.],\n",
              "        [ 0., -1., -1., -1., -1., -1.,  5.]])"
            ]
          },
          "metadata": {
            "tags": []
          },
          "execution_count": 102
        }
      ]
    },
    {
      "cell_type": "markdown",
      "metadata": {
        "id": "zmKI0TLw9EcW"
      },
      "source": [
        "Let's go back to the definition of what eigenvectors are:\n",
        "\n",
        "$Lx = \\lambda x$\n",
        "\n",
        "Or said differently, $x^TLx = \\lambda$\n",
        "\n",
        "Now we can see something interesting: \n",
        "We have a relation $Lv = w$, wich can interpreted as:\n",
        "\n",
        "(1) $w(i) =􏰂 \\sum_{j :(i,j )∈E}(v(i) − v(j))$\n",
        "\n",
        "and\n",
        "\n",
        "(2) $\\lambda = v^TLv = \\sum_{i<j :(i,j )∈E}(v(i) − v(j))^2$\n",
        "\n",
        "We can see from this relation that the  **eigenvalues are meaningful**: The smaller the eigenvalue, the more adjacent nodes will have the same value in the corresponding eigenvector.\n",
        "\n",
        "\n",
        "It can be proven that **there are as many eigenvalues equal to 0 as connected components of the graph**. Let's see an intuition of the reason why:\n",
        "\n",
        "If all adjacent nodes have the same value (in the eigenvector), then equation (2) can be qual to 0. There is therefore always at least one eigenvalue = 0 correspondant to this case (Note: the definition of eigenvalues say that one cannot be a simple multiple of the other, so, for instance, the eigenvectors [1 1 1] and [2 2 2] are in fact the same.\n",
        "\n",
        "For each additional connected component, there is another different possible eigenvector of eigenvalue 0: it has all the nodes of this addition connected component having the same value, different from the values of all other connected components.\n",
        "\n",
        "\n",
        "Intuitively, to give an interpretation based on diffusion, we can see that while each node $i$ \"sends\" $-\\lambda v_i$ to each of its neighbor, and that each node \"sends\" $d_i \\lambda v_i$ to himself, if the $v_i$ between all adjacent nodes are equal, all values will annulate themselves (substract one per neighbor, add the degree).\n",
        "\n",
        "Note that the solution with all elements of the eigenvector having the same value is one trivial solution to have $\\lambda=0$, but not necessarily the only one. \n",
        "\n",
        "\n",
        "\n"
      ]
    },
    {
      "cell_type": "code",
      "metadata": {
        "id": "8kask7jDIRu3",
        "outputId": "8d58fcab-aa04-468d-c0a3-33d1fb25d5a5",
        "colab": {
          "base_uri": "https://localhost:8080/",
          "height": 34
        }
      },
      "source": [
        "eigvalues,eigvectors = numpy.linalg.eig(L)\n",
        "[round(x.real,3) for x in eigvalues]"
      ],
      "execution_count": null,
      "outputs": [
        {
          "output_type": "execute_result",
          "data": {
            "text/plain": [
              "[7.0, 1.0, -0.0, 2.0, 6.0, 2.0, 2.0]"
            ]
          },
          "metadata": {
            "tags": []
          },
          "execution_count": 144
        }
      ]
    },
    {
      "cell_type": "markdown",
      "metadata": {
        "id": "9Dn_JHYSJzkJ"
      },
      "source": [
        "Because there is a single 0 eigenvalue, we know that there is a single connected component in the graph. "
      ]
    },
    {
      "cell_type": "code",
      "metadata": {
        "id": "lbDh6sicLHY3",
        "outputId": "503bd61e-12dd-4d2a-ae42-0c05f47a9945",
        "colab": {
          "base_uri": "https://localhost:8080/",
          "height": 319
        }
      },
      "source": [
        "ith_eigen = 2\n",
        "eigenvec = eigvectors[:,ith_eigen]\n",
        "eigenval = eigvalues[ith_eigen]\n",
        "\n",
        "plt.figure()    \n",
        "g_pos = nx.from_numpy_array(A)\n",
        "pos = nx.spring_layout(g_pos)\n",
        "g_to_plot = nx.from_numpy_array(L)\n",
        "\n",
        "nx.draw(g_to_plot,pos=pos,edge_color='black',width=1,linewidths=1,\\\n",
        "node_size=500,alpha=0.5)\n",
        "pos_attrs = {}\n",
        "for node, coords in pos.items():\n",
        "    pos_attrs[node] = (coords[0], coords[1] + 0.08)\n",
        "nx.draw_networkx_labels(g_to_plot, pos_attrs, labels={i:round(eigenvec[i].item(0),3) for i in range(len(eigenvec))})\n",
        "\n",
        "nx.draw_networkx_edge_labels(g_to_plot,pos=pos,edge_labels={k:round(v,3) for k,v in nx.get_edge_attributes(g_to_plot,'weight').items()},font_color='red')\n",
        "plt.axis('off')\n",
        "plt.show()"
      ],
      "execution_count": null,
      "outputs": [
        {
          "output_type": "display_data",
          "data": {
            "image/png": "[encoded data removed]",
            "text/plain": [
              "<Figure size 432x288 with 1 Axes>"
            ]
          },
          "metadata": {
            "tags": []
          }
        }
      ]
    },
    {
      "cell_type": "code",
      "metadata": {
        "id": "AN5ogwkuKF6_",
        "outputId": "a7865a3b-c00c-476d-ab4f-69f16600aff6",
        "colab": {
          "base_uri": "https://localhost:8080/",
          "height": 374
        }
      },
      "source": [
        "eigvectors[:,]"
      ],
      "execution_count": null,
      "outputs": [
        {
          "output_type": "execute_result",
          "data": {
            "text/plain": [
              "matrix([[ 1.61302468e-01,  8.65608378e-01,  4.23914128e-01,\n",
              "          2.12133124e-01,  2.69291973e-16,  4.62885872e-17,\n",
              "          5.48134811e-18],\n",
              "        [ 3.12156849e-01, -1.05211754e-01, -8.70614203e-02,\n",
              "          3.65935647e-01,  2.88675135e-01, -5.53530785e-01,\n",
              "         -7.54490869e-01],\n",
              "        [ 3.12156849e-01, -1.05211754e-01, -8.70614203e-02,\n",
              "          3.65935647e-01, -8.66025404e-01,  1.27680853e-01,\n",
              "          1.51195629e-02],\n",
              "        [ 3.12156849e-01, -1.05211754e-01, -8.70614203e-02,\n",
              "          3.65935647e-01,  2.88675135e-01,  7.54509302e-01,\n",
              "          8.93466054e-02],\n",
              "        [ 3.12156849e-01, -1.05211754e-01, -8.70614203e-02,\n",
              "          3.65935647e-01,  2.88675135e-01, -3.28659370e-01,\n",
              "          6.50024701e-01],\n",
              "        [ 5.58246439e-01,  3.02379305e-01, -5.67498874e-01,\n",
              "         -5.24283031e-01, -2.41016702e-33, -4.36851474e-32,\n",
              "         -9.15894287e-33],\n",
              "        [ 5.22086999e-01, -3.39132481e-01,  6.84049031e-01,\n",
              "         -3.80120047e-01, -2.18313502e-16, -4.91633736e-17,\n",
              "          8.00434528e-18]])"
            ]
          },
          "metadata": {
            "tags": []
          },
          "execution_count": 151
        }
      ]
    },
    {
      "cell_type": "markdown",
      "metadata": {
        "id": "aB1Op1E4s6Un"
      },
      "source": [
        "The normalized Laplacian is a variant defined as \n",
        "\n",
        "$D^{1/2}LD^{1/2}$"
      ]
    },
    {
      "cell_type": "code",
      "metadata": {
        "id": "TBVKmdSlmcmR",
        "outputId": "13bdfe97-ebce-4e39-f0b5-c6975e9ec44c",
        "colab": {
          "base_uri": "https://localhost:8080/",
          "height": 255
        }
      },
      "source": [
        "Lnorm = numpy.power(D,1/2)*L*numpy.power(D,1/2)\n",
        "Lnorm"
      ],
      "execution_count": null,
      "outputs": [
        {
          "output_type": "execute_result",
          "data": {
            "text/plain": [
              "matrix([[ 1.        ,  0.        ,  0.        ,  0.        ,  0.        ,\n",
              "         -2.44948974,  0.        ],\n",
              "        [ 0.        ,  4.        ,  0.        ,  0.        ,  0.        ,\n",
              "         -3.46410162, -3.16227766],\n",
              "        [ 0.        ,  0.        ,  4.        ,  0.        ,  0.        ,\n",
              "         -3.46410162, -3.16227766],\n",
              "        [ 0.        ,  0.        ,  0.        ,  4.        ,  0.        ,\n",
              "         -3.46410162, -3.16227766],\n",
              "        [ 0.        ,  0.        ,  0.        ,  0.        ,  4.        ,\n",
              "         -3.46410162, -3.16227766],\n",
              "        [-2.44948974, -3.46410162, -3.46410162, -3.46410162, -3.46410162,\n",
              "         36.        , -5.47722558],\n",
              "        [ 0.        , -3.16227766, -3.16227766, -3.16227766, -3.16227766,\n",
              "         -5.47722558, 25.        ]])"
            ]
          },
          "metadata": {
            "tags": []
          },
          "execution_count": 103
        }
      ]
    },
    {
      "cell_type": "code",
      "metadata": {
        "id": "mS9ys_yIlnxT"
      },
      "source": [
        "G= nx.karate_club_graph()"
      ],
      "execution_count": null,
      "outputs": []
    },
    {
      "cell_type": "code",
      "metadata": {
        "id": "vC0RgfYAmD5q"
      },
      "source": [
        "A = nx.to_numpy_matrix(G)"
      ],
      "execution_count": null,
      "outputs": []
    },
    {
      "cell_type": "code",
      "metadata": {
        "id": "C42J11JWm39A"
      },
      "source": [
        "d = numpy.sum(A,axis=0)"
      ],
      "execution_count": null,
      "outputs": []
    },
    {
      "cell_type": "code",
      "metadata": {
        "id": "NE645OXfmIS_"
      },
      "source": [
        "D = numpy.diag(d.tolist()[0])"
      ],
      "execution_count": null,
      "outputs": []
    },
    {
      "cell_type": "code",
      "metadata": {
        "id": "mq5HOgX-mUOQ"
      },
      "source": [
        "L = D-A"
      ],
      "execution_count": null,
      "outputs": []
    },
    {
      "cell_type": "code",
      "metadata": {
        "id": "BGRVWJGYmZUg",
        "outputId": "68b38a5b-c43a-41aa-ca78-b0ee757659cc",
        "colab": {
          "base_uri": "https://localhost:8080/",
          "height": 136
        }
      },
      "source": [
        "L"
      ],
      "execution_count": null,
      "outputs": [
        {
          "output_type": "execute_result",
          "data": {
            "text/plain": [
              "matrix([[16., -1., -1., ..., -1.,  0.,  0.],\n",
              "        [-1.,  9., -1., ...,  0.,  0.,  0.],\n",
              "        [-1., -1., 10., ...,  0., -1.,  0.],\n",
              "        ...,\n",
              "        [-1.,  0.,  0., ...,  6., -1., -1.],\n",
              "        [ 0.,  0., -1., ..., -1., 12., -1.],\n",
              "        [ 0.,  0.,  0., ..., -1., -1., 17.]])"
            ]
          },
          "metadata": {
            "tags": []
          },
          "execution_count": 8
        }
      ]
    },
    {
      "cell_type": "code",
      "metadata": {
        "id": "nZvXMlrjm9st",
        "outputId": "1834adbb-a8ed-4fba-f92a-7d5214de2f3e",
        "colab": {
          "base_uri": "https://localhost:8080/",
          "height": 935
        }
      },
      "source": [
        "numpy.linalg.eig(A)"
      ],
      "execution_count": null,
      "outputs": [
        {
          "output_type": "execute_result",
          "data": {
            "text/plain": [
              "(array([ 6.72569773e+00+0.00000000e+00j,  4.97707423e+00+0.00000000e+00j,\n",
              "        -4.48722919e+00+0.00000000e+00j, -3.44793486e+00+0.00000000e+00j,\n",
              "        -3.11069092e+00+0.00000000e+00j,  2.91650670e+00+0.00000000e+00j,\n",
              "        -2.43742443e+00+0.00000000e+00j,  2.30908767e+00+0.00000000e+00j,\n",
              "        -2.09082295e+00+0.00000000e+00j, -1.68768945e+00+0.00000000e+00j,\n",
              "        -1.44407374e+00+0.00000000e+00j, -1.19242425e+00+0.00000000e+00j,\n",
              "        -1.04208785e+00+0.00000000e+00j, -7.92406815e-01+0.00000000e+00j,\n",
              "        -4.18818748e-01+0.00000000e+00j,  1.48615954e+00+0.00000000e+00j,\n",
              "         1.45305566e+00+0.00000000e+00j,  1.08328639e+00+0.00000000e+00j,\n",
              "         1.03145042e+00+0.00000000e+00j,  8.34304102e-01+0.00000000e+00j,\n",
              "         2.99410685e-01+0.00000000e+00j,  4.19729474e-01+0.00000000e+00j,\n",
              "         6.15840589e-01+0.00000000e+00j, -2.00000000e+00+0.00000000e+00j,\n",
              "        -1.84096457e-16+0.00000000e+00j,  3.25975263e-16+0.00000000e+00j,\n",
              "         1.19978798e-16+1.01484071e-16j,  1.19978798e-16-1.01484071e-16j,\n",
              "        -8.24776675e-17+0.00000000e+00j,  4.70919565e-17+6.63862545e-17j,\n",
              "         4.70919565e-17-6.63862545e-17j,  2.16623659e-17+5.90059282e-17j,\n",
              "         2.16623659e-17-5.90059282e-17j,  7.14194652e-17+0.00000000e+00j]),\n",
              " matrix([[ 3.55491445e-01+0.00000000e+00j,\n",
              "           3.86861073e-01+0.00000000e+00j,\n",
              "           3.17169916e-01+0.00000000e+00j, ...,\n",
              "          -7.29646719e-17+1.95845782e-17j,\n",
              "          -7.29646719e-17-1.95845782e-17j,\n",
              "           5.13071037e-17+0.00000000e+00j],\n",
              "         [ 2.65959920e-01+0.00000000e+00j,\n",
              "           2.68939523e-01+0.00000000e+00j,\n",
              "           1.24961276e-01+0.00000000e+00j, ...,\n",
              "           6.09118675e-17-2.70535828e-17j,\n",
              "           6.09118675e-17+2.70535828e-17j,\n",
              "          -2.61411323e-17+0.00000000e+00j],\n",
              "         [ 3.17192504e-01+0.00000000e+00j,\n",
              "           1.31159560e-01+0.00000000e+00j,\n",
              "           2.72615936e-02+0.00000000e+00j, ...,\n",
              "          -2.27743882e-17-1.96452769e-18j,\n",
              "          -2.27743882e-17+1.96452769e-18j,\n",
              "           2.22488967e-17+0.00000000e+00j],\n",
              "         ...,\n",
              "         [ 1.91033841e-01+0.00000000e+00j,\n",
              "          -1.02234553e-01+0.00000000e+00j,\n",
              "          -2.67358193e-01+0.00000000e+00j, ...,\n",
              "          -2.33840142e-17+3.48955803e-18j,\n",
              "          -2.33840142e-17-3.48955803e-18j,\n",
              "           3.62986293e-17+0.00000000e+00j],\n",
              "         [ 3.08644220e-01+0.00000000e+00j,\n",
              "          -3.24555829e-01+0.00000000e+00j,\n",
              "           2.81353998e-01+0.00000000e+00j, ...,\n",
              "           5.54709532e-17+3.52488087e-18j,\n",
              "           5.54709532e-17-3.52488087e-18j,\n",
              "          -4.81906997e-17+0.00000000e+00j],\n",
              "         [ 3.73363470e-01+0.00000000e+00j,\n",
              "          -3.70589076e-01+0.00000000e+00j,\n",
              "           5.20937124e-01+0.00000000e+00j, ...,\n",
              "          -4.84327103e-17-1.69744439e-17j,\n",
              "          -4.84327103e-17+1.69744439e-17j,\n",
              "           4.94387015e-17+0.00000000e+00j]]))"
            ]
          },
          "metadata": {
            "tags": []
          },
          "execution_count": 12
        }
      ]
    },
    {
      "cell_type": "code",
      "metadata": {
        "id": "4xq1ik26H5a3",
        "outputId": "76b3a95b-2ded-43bd-911b-d02db5da6c67",
        "colab": {
          "base_uri": "https://localhost:8080/",
          "height": 391
        }
      },
      "source": [
        "numpy.linalg.eig(L)"
      ],
      "execution_count": null,
      "outputs": [
        {
          "output_type": "execute_result",
          "data": {
            "text/plain": [
              "(array([ 1.81366960e+01,  1.70551712e+01,  1.33061223e+01,  1.09210675e+01,\n",
              "         9.77724095e+00,  6.99619703e+00,  6.51554463e+00,  6.33159222e+00,\n",
              "        -3.03715976e-15,  5.37859508e+00,  4.68525227e-01,  4.58079267e+00,\n",
              "         4.48000767e+00,  4.27587682e+00,  9.09247664e-01,  1.12501072e+00,\n",
              "         1.25940411e+00,  1.59928308e+00,  1.76189862e+00,  1.82605521e+00,\n",
              "         1.95505045e+00,  2.48709173e+00,  2.74915718e+00,  3.01396297e+00,\n",
              "         3.24206748e+00,  3.47218740e+00,  5.61803399e+00,  3.37615409e+00,\n",
              "         2.00000000e+00,  3.38196601e+00,  2.00000000e+00,  2.00000000e+00,\n",
              "         2.00000000e+00,  2.00000000e+00]),\n",
              " matrix([[ 1.93749031e-01, -9.40932167e-01, -9.47825261e-02, ...,\n",
              "           1.67168731e-16, -3.69951351e-17,  7.31283825e-17],\n",
              "         [ 5.22422164e-03,  6.58647640e-02,  9.91845054e-02, ...,\n",
              "          -1.14645366e-16,  5.13980456e-17, -1.90723045e-17],\n",
              "         [ 2.91860881e-02,  1.15069117e-01, -3.14797911e-01, ...,\n",
              "           4.37720638e-16, -1.86437308e-16,  2.52549417e-16],\n",
              "         ...,\n",
              "         [-8.55124031e-02,  7.68509217e-02, -1.23027130e-01, ...,\n",
              "           1.12575492e-16,  1.75220610e-17, -1.02542084e-16],\n",
              "         [-5.90752833e-02, -7.43433668e-02,  8.89558873e-01, ...,\n",
              "          -2.78014666e-16,  1.64702916e-16,  2.62231381e-17],\n",
              "         [ 9.43479415e-01,  2.01841425e-01,  3.74802971e-02, ...,\n",
              "           3.13628295e-17,  8.42216868e-18,  4.30026504e-17]]))"
            ]
          },
          "metadata": {
            "tags": []
          },
          "execution_count": 10
        }
      ]
    },
    {
      "cell_type": "code",
      "metadata": {
        "id": "VHRx2hj-Wn93",
        "outputId": "8247fdf0-c6a7-4d59-b330-6aea5db3e768",
        "colab": {
          "base_uri": "https://localhost:8080/",
          "height": 391
        }
      },
      "source": [
        "numpy.linalg.eig(Lnorm)"
      ],
      "execution_count": null,
      "outputs": [
        {
          "output_type": "execute_result",
          "data": {
            "text/plain": [
              "(array([2.93335118e+02, 2.60684041e+02, 1.48650139e+02, 1.03787051e+02,\n",
              "        8.15809267e+01, 3.89268998e+01, 3.66121642e+01, 2.87960331e+01,\n",
              "        2.58350221e+01, 2.15573089e+01, 1.68124716e+01, 1.47089000e+01,\n",
              "        1.39545841e+01, 1.29292100e+01, 1.56164966e-14, 1.10365428e+01,\n",
              "        8.39638608e+00, 7.41259682e+00, 9.28698189e-01, 1.40554881e+00,\n",
              "        5.03272597e+00, 2.54720899e+00, 3.36129473e+00, 3.77711648e+00,\n",
              "        3.58348273e+00, 3.63970570e+00, 2.12915026e+01, 1.07088228e+01,\n",
              "        1.07084974e+01, 4.00000000e+00, 4.00000000e+00, 4.00000000e+00,\n",
              "        4.00000000e+00, 4.00000000e+00]),\n",
              " matrix([[-2.91508563e-02,  9.89343482e-01, -2.94352233e-02, ...,\n",
              "          -9.06321086e-18,  3.24514517e-17,  1.22024621e-17],\n",
              "         [-5.87058402e-04, -5.71008693e-02,  3.74865954e-02, ...,\n",
              "           6.86602847e-17,  1.88973709e-17, -3.35435557e-17],\n",
              "         [-7.48407695e-03, -7.00056034e-02, -2.15267574e-01, ...,\n",
              "           4.73454509e-17,  5.64594476e-17,  1.78187871e-17],\n",
              "         ...,\n",
              "         [ 3.68320750e-02, -4.23955574e-02, -7.67086645e-02, ...,\n",
              "          -4.34157519e-16,  2.80546164e-16,  4.00342694e-16],\n",
              "         [ 8.44127087e-02,  1.54990849e-02,  9.59822474e-01, ...,\n",
              "          -4.92103935e-17, -5.00719957e-17, -1.17675402e-17],\n",
              "         [-9.90624119e-01, -3.15396298e-02,  7.22134891e-02, ...,\n",
              "           3.44982023e-17, -1.28560682e-17, -2.07076588e-17]]))"
            ]
          },
          "metadata": {
            "tags": []
          },
          "execution_count": 11
        }
      ]
    },
    {
      "cell_type": "code",
      "metadata": {
        "id": "Mm10jVhw4RM6"
      },
      "source": [
        ""
      ],
      "execution_count": null,
      "outputs": []
    },
    {
      "cell_type": "markdown",
      "metadata": {
        "id": "IPy8fNARcwbK"
      },
      "source": [
        "$A=Q\\Lambda Q^{-1}$"
      ]
    },
    {
      "cell_type": "code",
      "metadata": {
        "id": "MQSLsYKT4Rnf"
      },
      "source": [
        ""
      ],
      "execution_count": null,
      "outputs": []
    }
  ]
}