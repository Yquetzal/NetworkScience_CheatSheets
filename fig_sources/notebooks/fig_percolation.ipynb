{
  "nbformat": 4,
  "nbformat_minor": 0,
  "metadata": {
    "colab": {
      "name": "fig_percolation.ipynb",
      "provenance": [],
      "collapsed_sections": []
    },
    "kernelspec": {
      "name": "python3",
      "display_name": "Python 3"
    }
  },
  "cells": [
    {
      "cell_type": "code",
      "metadata": {
        "id": "gwgbMXFgJJFy"
      },
      "source": [
        "import numpy as np\n",
        "import networkx as nx\n",
        "import matplotlib.pyplot as plt\n",
        "import seaborn as sns\n",
        "import pandas as pd\n",
        "sns.set()"
      ],
      "execution_count": null,
      "outputs": []
    },
    {
      "cell_type": "code",
      "metadata": {
        "id": "l9A53UloJLxW",
        "colab": {
          "base_uri": "https://localhost:8080/",
          "height": 34
        },
        "outputId": "0c9684de-ae53-416e-a32e-1f94455bd42d"
      },
      "source": [
        "std = np.std([10,10,9,1,2])\n",
        "std"
      ],
      "execution_count": null,
      "outputs": [
        {
          "output_type": "execute_result",
          "data": {
            "text/plain": [
              "4.029888335921977"
            ]
          },
          "metadata": {
            "tags": []
          },
          "execution_count": 16
        }
      ]
    },
    {
      "cell_type": "code",
      "metadata": {
        "id": "-LD62QkwJlDk"
      },
      "source": [
        "g = nx.Graph()\n",
        "g.add_edge(\"A\",\"B\")\n",
        "g.add_edge(\"A\",\"C\")\n",
        "g.add_edge(\"B\",\"C\")\n",
        "g.add_edge(\"D\",\"E\")"
      ],
      "execution_count": null,
      "outputs": []
    },
    {
      "cell_type": "code",
      "metadata": {
        "id": "PcklkgaCJ2yx"
      },
      "source": [
        "nx.set_node_attributes(g,{\"A\":10,\"B\":10,\"C\":9,\"D\":1,\"E\":2},\"w\")"
      ],
      "execution_count": null,
      "outputs": []
    },
    {
      "cell_type": "code",
      "metadata": {
        "id": "vBr71wTuKEC8",
        "colab": {
          "base_uri": "https://localhost:8080/",
          "height": 34
        },
        "outputId": "d4183a32-b34e-4d5c-e83a-5aeeabadaa88"
      },
      "source": [
        "nx.numeric_assortativity_coefficient(g,\"w\")"
      ],
      "execution_count": null,
      "outputs": [
        {
          "output_type": "execute_result",
          "data": {
            "text/plain": [
              "0.9705521472392638"
            ]
          },
          "metadata": {
            "tags": []
          },
          "execution_count": 11
        }
      ]
    },
    {
      "cell_type": "code",
      "metadata": {
        "id": "9z22-cFdKTGv"
      },
      "source": [
        "abc = 10*10*((2/4)-(2/5)*(2/5))"
      ],
      "execution_count": null,
      "outputs": []
    },
    {
      "cell_type": "code",
      "metadata": {
        "id": "1DI8Wm35L3dJ"
      },
      "source": [
        "bc = 10*9*((1/4)-(1/5)*(1/5))"
      ],
      "execution_count": null,
      "outputs": []
    },
    {
      "cell_type": "code",
      "metadata": {
        "id": "1e_lyOifMQKq"
      },
      "source": [
        "de = 1*2*((1/4)-(1/5)*(1/5))"
      ],
      "execution_count": null,
      "outputs": []
    },
    {
      "cell_type": "code",
      "metadata": {
        "id": "yr-UrzuDMSbW",
        "colab": {
          "base_uri": "https://localhost:8080/",
          "height": 34
        },
        "outputId": "b6131ed3-cdd5-4bd4-fa96-b844a7109236"
      },
      "source": [
        "(abc+bc+de)/(std*std)"
      ],
      "execution_count": null,
      "outputs": [
        {
          "output_type": "execute_result",
          "data": {
            "text/plain": [
              "4.258620689655173"
            ]
          },
          "metadata": {
            "tags": []
          },
          "execution_count": 15
        }
      ]
    },
    {
      "cell_type": "code",
      "metadata": {
        "id": "3hJXkQqYMYIy",
        "colab": {
          "base_uri": "https://localhost:8080/",
          "height": 34
        },
        "outputId": "39dae472-8d23-450b-b928-b56bfd9ce6ee"
      },
      "source": [
        "vals =10*10+10*9+10*9+1*2\n",
        "vals = vals/4\n",
        "vals\n"
      ],
      "execution_count": null,
      "outputs": [
        {
          "output_type": "execute_result",
          "data": {
            "text/plain": [
              "70.5"
            ]
          },
          "metadata": {
            "tags": []
          },
          "execution_count": 22
        }
      ]
    },
    {
      "cell_type": "code",
      "metadata": {
        "id": "7UHRL8C3R0sW",
        "colab": {
          "base_uri": "https://localhost:8080/",
          "height": 34
        },
        "outputId": "9b61627e-cba5-4ae0-8ff4-b502f0497408"
      },
      "source": [
        "vals/(std*std)"
      ],
      "execution_count": null,
      "outputs": [
        {
          "output_type": "execute_result",
          "data": {
            "text/plain": [
              "17.36453201970443"
            ]
          },
          "metadata": {
            "tags": []
          },
          "execution_count": 19
        }
      ]
    },
    {
      "cell_type": "code",
      "metadata": {
        "id": "ZOx2EhzIR9Qn"
      },
      "source": [
        "g = nx.Graph()\n",
        "g.add_edge(1,2)\n",
        "g.add_edge(1,6)\n",
        "g.add_edge(2,3)\n",
        "g.add_edge(3,4)\n",
        "g.add_edge(4,5)\n",
        "g.add_edge(5,6)\n",
        "\n",
        "g.add_edge(4,7)\n",
        "\n",
        "g.add_edge(7,8)\n",
        "g.add_edge(7,9)\n",
        "g.add_edge(7,10)\n",
        "g.add_edge(7,11)\n",
        "g.add_edge(7,12)\n",
        "g.add_edge(8,9)\n",
        "g.add_edge(8,10)\n",
        "g.add_edge(8,11)\n",
        "g.add_edge(8,12)\n",
        "g.add_edge(9,10)\n",
        "g.add_edge(9,11)\n",
        "g.add_edge(9,12)\n",
        "g.add_edge(10,11)\n",
        "g.add_edge(10,12)\n",
        "g.add_edge(11,12)"
      ],
      "execution_count": null,
      "outputs": []
    },
    {
      "cell_type": "code",
      "metadata": {
        "id": "rqLl3KsUZgiD",
        "colab": {
          "base_uri": "https://localhost:8080/",
          "height": 248
        },
        "outputId": "65491c20-0a4c-4fa7-c200-58f2b4b4ed3f"
      },
      "source": [
        "nx.draw_networkx(g)"
      ],
      "execution_count": null,
      "outputs": [
        {
          "output_type": "display_data",
          "data": {
            "image/png": "[encoded data removed]",
            "text/plain": [
              "<Figure size 432x288 with 1 Axes>"
            ]
          },
          "metadata": {
            "tags": []
          }
        }
      ]
    },
    {
      "cell_type": "code",
      "metadata": {
        "id": "i2Lh3rvQZldv",
        "colab": {
          "base_uri": "https://localhost:8080/",
          "height": 221
        },
        "outputId": "be0f4ca6-a377-4fb9-dee2-87de7ec8c072"
      },
      "source": [
        "nx.betweenness_centrality(g)"
      ],
      "execution_count": null,
      "outputs": [
        {
          "output_type": "execute_result",
          "data": {
            "text/plain": [
              "{1: 0.03636363636363636,\n",
              " 2: 0.09090909090909091,\n",
              " 3: 0.19999999999999998,\n",
              " 4: 0.5818181818181818,\n",
              " 5: 0.19999999999999998,\n",
              " 6: 0.09090909090909091,\n",
              " 7: 0.5454545454545454,\n",
              " 8: 0.0,\n",
              " 9: 0.0,\n",
              " 10: 0.0,\n",
              " 11: 0.0,\n",
              " 12: 0.0}"
            ]
          },
          "metadata": {
            "tags": []
          },
          "execution_count": 8
        }
      ]
    },
    {
      "cell_type": "code",
      "metadata": {
        "id": "McB67vBoZpwc",
        "colab": {
          "base_uri": "https://localhost:8080/",
          "height": 34
        },
        "outputId": "2be023a6-76ff-4956-bebf-d4d01e515828"
      },
      "source": [
        "(5*6+1+1)/(11*10/2)"
      ],
      "execution_count": null,
      "outputs": [
        {
          "output_type": "execute_result",
          "data": {
            "text/plain": [
              "0.5818181818181818"
            ]
          },
          "metadata": {
            "tags": []
          },
          "execution_count": 8
        }
      ]
    },
    {
      "cell_type": "code",
      "metadata": {
        "id": "V6taoWUAaHCD"
      },
      "source": [
        ""
      ],
      "execution_count": null,
      "outputs": []
    },
    {
      "cell_type": "code",
      "metadata": {
        "id": "3YRhOBOnqSsk"
      },
      "source": [
        "for_df={}\n",
        "for_df[\"|Gcc|\"]=[]\n",
        "for_df[\"k\"]=[]\n",
        "for_df[\"size\"]=[]\n",
        "for n in [100,1000,10000]:\n",
        "  for m in range(1,n*2,int(n/10)):\n",
        "    g = nx.gnm_random_graph(n,m)\n",
        "    deg= m/n*2\n",
        "    Gcc = sorted(nx.connected_components(g), key=len, reverse=True)[0]\n",
        "    for_df[\"size\"].append(\"n=\"+str(n))\n",
        "    for_df[\"|Gcc|\"].append(len(Gcc)/n)\n",
        "    for_df[\"k\"].append(deg)\n",
        "\n",
        "    #res[n].append(len(Gcc)/m)\n",
        "    #degs[n].append(deg) "
      ],
      "execution_count": null,
      "outputs": []
    },
    {
      "cell_type": "code",
      "metadata": {
        "id": "a8q8Nn7qrZ-_",
        "colab": {
          "base_uri": "https://localhost:8080/",
          "height": 302
        },
        "outputId": "310924d2-2480-46bb-9fb0-570ae76c4e19"
      },
      "source": [
        "stats = pd.DataFrame(for_df)\n",
        "sns.lineplot(\"k\",\"|Gcc|\",data=stats,hue=\"size\")\n"
      ],
      "execution_count": null,
      "outputs": [
        {
          "output_type": "execute_result",
          "data": {
            "text/plain": [
              "<matplotlib.axes._subplots.AxesSubplot at 0x7f11dcaea9b0>"
            ]
          },
          "metadata": {
            "tags": []
          },
          "execution_count": 33
        },
        {
          "output_type": "display_data",
          "data": {
            "image/png": "[encoded data removed]",
            "text/plain": [
              "<Figure size 432x288 with 1 Axes>"
            ]
          },
          "metadata": {
            "tags": []
          }
        }
      ]
    },
    {
      "cell_type": "code",
      "metadata": {
        "id": "sx9kk1YQtrUt",
        "colab": {
          "base_uri": "https://localhost:8080/",
          "height": 170
        },
        "outputId": "d510bcb3-3609-4343-de33-04c1dc07012e"
      },
      "source": [
        "vals = {}\n",
        "for N in [100,1000,5000]:\n",
        "  for k in [2,5,10] :\n",
        "    print(N,k)\n",
        "    L=N*k\n",
        "    g= nx.gnm_random_graph(N,L)\n",
        "    vals[\"$N$\"]=N\n",
        "    vals[\"$k$\"]=k\n",
        "    vals[\"$C_g$\"]=nx.transitivity(g)\n",
        "    vals[\"$\\langle /ell  \\rangle$\"]=nx.average_shortest_path_length(nx.subgraph(g,sorted(nx.connected_components(g), key=len, reverse=True)[0]))"
      ],
      "execution_count": null,
      "outputs": [
        {
          "output_type": "stream",
          "text": [
            "100 2\n",
            "100 5\n",
            "100 10\n",
            "1000 2\n",
            "1000 5\n",
            "1000 10\n",
            "5000 2\n",
            "5000 5\n",
            "5000 10\n"
          ],
          "name": "stdout"
        }
      ]
    },
    {
      "cell_type": "code",
      "metadata": {
        "id": "KwCWMLxJ3sBw",
        "colab": {
          "base_uri": "https://localhost:8080/",
          "height": 317
        },
        "outputId": "e1c83111-47cb-4c4e-f556-002879134db3"
      },
      "source": [
        "nx.read_edgelist(\"https://networks.skewed.de/net/karate/files/77.csv.zip\")"
      ],
      "execution_count": null,
      "outputs": [
        {
          "output_type": "error",
          "ename": "FileNotFoundError",
          "evalue": "ignored",
          "traceback": [
            "\u001b[0;31m---------------------------------------------------------------------------\u001b[0m",
            "\u001b[0;31mFileNotFoundError\u001b[0m                         Traceback (most recent call last)",
            "\u001b[0;32m<ipython-input-2-7008ef9ec8fc>\u001b[0m in \u001b[0;36m<module>\u001b[0;34m()\u001b[0m\n\u001b[0;32m----> 1\u001b[0;31m \u001b[0mnx\u001b[0m\u001b[0;34m.\u001b[0m\u001b[0mread_edgelist\u001b[0m\u001b[0;34m(\u001b[0m\u001b[0;34m\"https://networks.skewed.de/net/karate/files/77.csv.zip\"\u001b[0m\u001b[0;34m)\u001b[0m\u001b[0;34m\u001b[0m\u001b[0;34m\u001b[0m\u001b[0m\n\u001b[0m",
            "\u001b[0;32m<decorator-gen-773>\u001b[0m in \u001b[0;36mread_edgelist\u001b[0;34m(path, comments, delimiter, create_using, nodetype, data, edgetype, encoding)\u001b[0m\n",
            "\u001b[0;32m/usr/local/lib/python3.6/dist-packages/networkx/utils/decorators.py\u001b[0m in \u001b[0;36m_open_file\u001b[0;34m(func_to_be_decorated, *args, **kwargs)\u001b[0m\n\u001b[1;32m    211\u001b[0m         \u001b[0;32mif\u001b[0m \u001b[0misinstance\u001b[0m\u001b[0;34m(\u001b[0m\u001b[0mpath\u001b[0m\u001b[0;34m,\u001b[0m \u001b[0mstr\u001b[0m\u001b[0;34m)\u001b[0m\u001b[0;34m:\u001b[0m\u001b[0;34m\u001b[0m\u001b[0;34m\u001b[0m\u001b[0m\n\u001b[1;32m    212\u001b[0m             \u001b[0mext\u001b[0m \u001b[0;34m=\u001b[0m \u001b[0msplitext\u001b[0m\u001b[0;34m(\u001b[0m\u001b[0mpath\u001b[0m\u001b[0;34m)\u001b[0m\u001b[0;34m[\u001b[0m\u001b[0;36m1\u001b[0m\u001b[0;34m]\u001b[0m\u001b[0;34m\u001b[0m\u001b[0;34m\u001b[0m\u001b[0m\n\u001b[0;32m--> 213\u001b[0;31m             \u001b[0mfobj\u001b[0m \u001b[0;34m=\u001b[0m \u001b[0m_dispatch_dict\u001b[0m\u001b[0;34m[\u001b[0m\u001b[0mext\u001b[0m\u001b[0;34m]\u001b[0m\u001b[0;34m(\u001b[0m\u001b[0mpath\u001b[0m\u001b[0;34m,\u001b[0m \u001b[0mmode\u001b[0m\u001b[0;34m=\u001b[0m\u001b[0mmode\u001b[0m\u001b[0;34m)\u001b[0m\u001b[0;34m\u001b[0m\u001b[0;34m\u001b[0m\u001b[0m\n\u001b[0m\u001b[1;32m    214\u001b[0m             \u001b[0mclose_fobj\u001b[0m \u001b[0;34m=\u001b[0m \u001b[0;32mTrue\u001b[0m\u001b[0;34m\u001b[0m\u001b[0;34m\u001b[0m\u001b[0m\n\u001b[1;32m    215\u001b[0m         \u001b[0;32melif\u001b[0m \u001b[0mhasattr\u001b[0m\u001b[0;34m(\u001b[0m\u001b[0mpath\u001b[0m\u001b[0;34m,\u001b[0m \u001b[0;34m\"read\"\u001b[0m\u001b[0;34m)\u001b[0m\u001b[0;34m:\u001b[0m\u001b[0;34m\u001b[0m\u001b[0;34m\u001b[0m\u001b[0m\n",
            "\u001b[0;31mFileNotFoundError\u001b[0m: [Errno 2] No such file or directory: 'https://networks.skewed.de/net/karate/files/77.csv.zip'"
          ]
        }
      ]
    },
    {
      "cell_type": "code",
      "metadata": {
        "id": "gIYj4KodxVq_",
        "colab": {
          "base_uri": "https://localhost:8080/"
        },
        "outputId": "d42e5b47-d15b-4c72-835b-b2d7e4b7886c"
      },
      "source": [
        "from io import BytesIO\n",
        "from zipfile import ZipFile\n",
        "from urllib.request import urlopen\n",
        "# or: requests.get(url).content\n",
        "\n",
        "resp = urlopen(\"https://networks.skewed.de/net/karate/files/77.csv.zip\"\")\n",
        "zipfile = ZipFile(BytesIO(resp.read()))\n",
        "for line in zipfile.open(file).readlines():\n",
        "    print(line.decode('utf-8'))"
      ],
      "execution_count": null,
      "outputs": [
        {
          "output_type": "error",
          "ename": "SyntaxError",
          "evalue": "ignored",
          "traceback": [
            "\u001b[0;36m  File \u001b[0;32m\"<ipython-input-3-ea73477cc942>\"\u001b[0;36m, line \u001b[0;32m6\u001b[0m\n\u001b[0;31m    resp = urlopen(\"https://networks.skewed.de/net/karate/files/77.csv.zip\"\")\u001b[0m\n\u001b[0m                                                                             ^\u001b[0m\n\u001b[0;31mSyntaxError\u001b[0m\u001b[0;31m:\u001b[0m EOL while scanning string literal\n"
          ]
        }
      ]
    },
    {
      "cell_type": "code",
      "metadata": {
        "id": "C-SB6Uog7WXR"
      },
      "source": [
        ""
      ],
      "execution_count": null,
      "outputs": []
    }
  ]
}