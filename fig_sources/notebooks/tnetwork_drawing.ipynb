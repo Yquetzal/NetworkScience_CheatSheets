{
  "nbformat": 4,
  "nbformat_minor": 0,
  "metadata": {
    "colab": {
      "name": "tnetwork_drawing.ipynb",
      "provenance": []
    },
    "kernelspec": {
      "name": "python3",
      "display_name": "Python 3"
    },
    "language_info": {
      "name": "python"
    }
  },
  "cells": [
    {
      "cell_type": "code",
      "execution_count": null,
      "metadata": {
        "colab": {
          "base_uri": "https://localhost:8080/"
        },
        "id": "5RZhU_OvnxiK",
        "outputId": "56b9126c-98ba-473a-e7bb-62235c066257"
      },
      "outputs": [
        {
          "output_type": "stream",
          "name": "stdout",
          "text": [
            "Requirement already satisfied: tnetwork in /usr/local/lib/python3.7/dist-packages (1.2)\n",
            "Requirement already satisfied: nbsphinx in /usr/local/lib/python3.7/dist-packages (from tnetwork) (0.8.8)\n",
            "Requirement already satisfied: sortedcontainers in /usr/local/lib/python3.7/dist-packages (from tnetwork) (2.4.0)\n",
            "Requirement already satisfied: bokeh in /usr/local/lib/python3.7/dist-packages (from tnetwork) (2.3.3)\n",
            "Requirement already satisfied: scikit-learn in /usr/local/lib/python3.7/dist-packages (from tnetwork) (1.0.2)\n",
            "Requirement already satisfied: numpy in /usr/local/lib/python3.7/dist-packages (from tnetwork) (1.19.5)\n",
            "Requirement already satisfied: networkx>=2.4 in /usr/local/lib/python3.7/dist-packages (from tnetwork) (2.6.3)\n",
            "Requirement already satisfied: bidict in /usr/local/lib/python3.7/dist-packages (from tnetwork) (0.21.4)\n",
            "Requirement already satisfied: pandas in /usr/local/lib/python3.7/dist-packages (from tnetwork) (1.1.5)\n",
            "Requirement already satisfied: sphinx-rtd-theme>=0.3.1 in /usr/local/lib/python3.7/dist-packages (from tnetwork) (1.0.0)\n",
            "Requirement already satisfied: progressbar2 in /usr/local/lib/python3.7/dist-packages (from tnetwork) (3.38.0)\n",
            "Requirement already satisfied: matplotlib in /usr/local/lib/python3.7/dist-packages (from tnetwork) (3.2.2)\n",
            "Requirement already satisfied: docutils<0.18 in /usr/local/lib/python3.7/dist-packages (from sphinx-rtd-theme>=0.3.1->tnetwork) (0.17.1)\n",
            "Requirement already satisfied: sphinx>=1.6 in /usr/local/lib/python3.7/dist-packages (from sphinx-rtd-theme>=0.3.1->tnetwork) (1.8.6)\n",
            "Requirement already satisfied: requests>=2.0.0 in /usr/local/lib/python3.7/dist-packages (from sphinx>=1.6->sphinx-rtd-theme>=0.3.1->tnetwork) (2.23.0)\n",
            "Requirement already satisfied: Pygments>=2.0 in /usr/local/lib/python3.7/dist-packages (from sphinx>=1.6->sphinx-rtd-theme>=0.3.1->tnetwork) (2.6.1)\n",
            "Requirement already satisfied: setuptools in /usr/local/lib/python3.7/dist-packages (from sphinx>=1.6->sphinx-rtd-theme>=0.3.1->tnetwork) (57.4.0)\n",
            "Requirement already satisfied: imagesize in /usr/local/lib/python3.7/dist-packages (from sphinx>=1.6->sphinx-rtd-theme>=0.3.1->tnetwork) (1.3.0)\n",
            "Requirement already satisfied: six>=1.5 in /usr/local/lib/python3.7/dist-packages (from sphinx>=1.6->sphinx-rtd-theme>=0.3.1->tnetwork) (1.15.0)\n",
            "Requirement already satisfied: Jinja2>=2.3 in /usr/local/lib/python3.7/dist-packages (from sphinx>=1.6->sphinx-rtd-theme>=0.3.1->tnetwork) (2.11.3)\n",
            "Requirement already satisfied: babel!=2.0,>=1.3 in /usr/local/lib/python3.7/dist-packages (from sphinx>=1.6->sphinx-rtd-theme>=0.3.1->tnetwork) (2.9.1)\n",
            "Requirement already satisfied: sphinxcontrib-websupport in /usr/local/lib/python3.7/dist-packages (from sphinx>=1.6->sphinx-rtd-theme>=0.3.1->tnetwork) (1.2.4)\n",
            "Requirement already satisfied: packaging in /usr/local/lib/python3.7/dist-packages (from sphinx>=1.6->sphinx-rtd-theme>=0.3.1->tnetwork) (21.3)\n",
            "Requirement already satisfied: snowballstemmer>=1.1 in /usr/local/lib/python3.7/dist-packages (from sphinx>=1.6->sphinx-rtd-theme>=0.3.1->tnetwork) (2.2.0)\n",
            "Requirement already satisfied: alabaster<0.8,>=0.7 in /usr/local/lib/python3.7/dist-packages (from sphinx>=1.6->sphinx-rtd-theme>=0.3.1->tnetwork) (0.7.12)\n",
            "Requirement already satisfied: pytz>=2015.7 in /usr/local/lib/python3.7/dist-packages (from babel!=2.0,>=1.3->sphinx>=1.6->sphinx-rtd-theme>=0.3.1->tnetwork) (2018.9)\n",
            "Requirement already satisfied: MarkupSafe>=0.23 in /usr/local/lib/python3.7/dist-packages (from Jinja2>=2.3->sphinx>=1.6->sphinx-rtd-theme>=0.3.1->tnetwork) (2.0.1)\n",
            "Requirement already satisfied: idna<3,>=2.5 in /usr/local/lib/python3.7/dist-packages (from requests>=2.0.0->sphinx>=1.6->sphinx-rtd-theme>=0.3.1->tnetwork) (2.10)\n",
            "Requirement already satisfied: certifi>=2017.4.17 in /usr/local/lib/python3.7/dist-packages (from requests>=2.0.0->sphinx>=1.6->sphinx-rtd-theme>=0.3.1->tnetwork) (2021.10.8)\n",
            "Requirement already satisfied: chardet<4,>=3.0.2 in /usr/local/lib/python3.7/dist-packages (from requests>=2.0.0->sphinx>=1.6->sphinx-rtd-theme>=0.3.1->tnetwork) (3.0.4)\n",
            "Requirement already satisfied: urllib3!=1.25.0,!=1.25.1,<1.26,>=1.21.1 in /usr/local/lib/python3.7/dist-packages (from requests>=2.0.0->sphinx>=1.6->sphinx-rtd-theme>=0.3.1->tnetwork) (1.24.3)\n",
            "Requirement already satisfied: PyYAML>=3.10 in /usr/local/lib/python3.7/dist-packages (from bokeh->tnetwork) (3.13)\n",
            "Requirement already satisfied: pillow>=7.1.0 in /usr/local/lib/python3.7/dist-packages (from bokeh->tnetwork) (7.1.2)\n",
            "Requirement already satisfied: tornado>=5.1 in /usr/local/lib/python3.7/dist-packages (from bokeh->tnetwork) (5.1.1)\n",
            "Requirement already satisfied: typing-extensions>=3.7.4 in /usr/local/lib/python3.7/dist-packages (from bokeh->tnetwork) (3.10.0.2)\n",
            "Requirement already satisfied: python-dateutil>=2.1 in /usr/local/lib/python3.7/dist-packages (from bokeh->tnetwork) (2.8.2)\n",
            "Requirement already satisfied: pyparsing!=3.0.5,>=2.0.2 in /usr/local/lib/python3.7/dist-packages (from packaging->sphinx>=1.6->sphinx-rtd-theme>=0.3.1->tnetwork) (3.0.6)\n",
            "Requirement already satisfied: kiwisolver>=1.0.1 in /usr/local/lib/python3.7/dist-packages (from matplotlib->tnetwork) (1.3.2)\n",
            "Requirement already satisfied: cycler>=0.10 in /usr/local/lib/python3.7/dist-packages (from matplotlib->tnetwork) (0.11.0)\n",
            "Requirement already satisfied: traitlets in /usr/local/lib/python3.7/dist-packages (from nbsphinx->tnetwork) (5.1.1)\n",
            "Requirement already satisfied: nbformat in /usr/local/lib/python3.7/dist-packages (from nbsphinx->tnetwork) (5.1.3)\n",
            "Requirement already satisfied: nbconvert!=5.4 in /usr/local/lib/python3.7/dist-packages (from nbsphinx->tnetwork) (5.6.1)\n",
            "Requirement already satisfied: pandocfilters>=1.4.1 in /usr/local/lib/python3.7/dist-packages (from nbconvert!=5.4->nbsphinx->tnetwork) (1.5.0)\n",
            "Requirement already satisfied: defusedxml in /usr/local/lib/python3.7/dist-packages (from nbconvert!=5.4->nbsphinx->tnetwork) (0.7.1)\n",
            "Requirement already satisfied: mistune<2,>=0.8.1 in /usr/local/lib/python3.7/dist-packages (from nbconvert!=5.4->nbsphinx->tnetwork) (0.8.4)\n",
            "Requirement already satisfied: testpath in /usr/local/lib/python3.7/dist-packages (from nbconvert!=5.4->nbsphinx->tnetwork) (0.5.0)\n",
            "Requirement already satisfied: jupyter-core in /usr/local/lib/python3.7/dist-packages (from nbconvert!=5.4->nbsphinx->tnetwork) (4.9.1)\n",
            "Requirement already satisfied: bleach in /usr/local/lib/python3.7/dist-packages (from nbconvert!=5.4->nbsphinx->tnetwork) (4.1.0)\n",
            "Requirement already satisfied: entrypoints>=0.2.2 in /usr/local/lib/python3.7/dist-packages (from nbconvert!=5.4->nbsphinx->tnetwork) (0.3)\n",
            "Requirement already satisfied: jsonschema!=2.5.0,>=2.4 in /usr/local/lib/python3.7/dist-packages (from nbformat->nbsphinx->tnetwork) (4.3.3)\n",
            "Requirement already satisfied: ipython-genutils in /usr/local/lib/python3.7/dist-packages (from nbformat->nbsphinx->tnetwork) (0.2.0)\n",
            "Requirement already satisfied: importlib-resources>=1.4.0 in /usr/local/lib/python3.7/dist-packages (from jsonschema!=2.5.0,>=2.4->nbformat->nbsphinx->tnetwork) (5.4.0)\n",
            "Requirement already satisfied: importlib-metadata in /usr/local/lib/python3.7/dist-packages (from jsonschema!=2.5.0,>=2.4->nbformat->nbsphinx->tnetwork) (4.10.0)\n",
            "Requirement already satisfied: pyrsistent!=0.17.0,!=0.17.1,!=0.17.2,>=0.14.0 in /usr/local/lib/python3.7/dist-packages (from jsonschema!=2.5.0,>=2.4->nbformat->nbsphinx->tnetwork) (0.18.0)\n",
            "Requirement already satisfied: attrs>=17.4.0 in /usr/local/lib/python3.7/dist-packages (from jsonschema!=2.5.0,>=2.4->nbformat->nbsphinx->tnetwork) (21.4.0)\n",
            "Requirement already satisfied: zipp>=3.1.0 in /usr/local/lib/python3.7/dist-packages (from importlib-resources>=1.4.0->jsonschema!=2.5.0,>=2.4->nbformat->nbsphinx->tnetwork) (3.7.0)\n",
            "Requirement already satisfied: webencodings in /usr/local/lib/python3.7/dist-packages (from bleach->nbconvert!=5.4->nbsphinx->tnetwork) (0.5.1)\n",
            "Requirement already satisfied: python-utils>=2.3.0 in /usr/local/lib/python3.7/dist-packages (from progressbar2->tnetwork) (3.0.0)\n",
            "Requirement already satisfied: joblib>=0.11 in /usr/local/lib/python3.7/dist-packages (from scikit-learn->tnetwork) (1.1.0)\n",
            "Requirement already satisfied: threadpoolctl>=2.0.0 in /usr/local/lib/python3.7/dist-packages (from scikit-learn->tnetwork) (3.0.0)\n",
            "Requirement already satisfied: scipy>=1.1.0 in /usr/local/lib/python3.7/dist-packages (from scikit-learn->tnetwork) (1.4.1)\n",
            "Requirement already satisfied: sphinxcontrib-serializinghtml in /usr/local/lib/python3.7/dist-packages (from sphinxcontrib-websupport->sphinx>=1.6->sphinx-rtd-theme>=0.3.1->tnetwork) (1.1.5)\n"
          ]
        }
      ],
      "source": [
        "!pip install tnetwork"
      ]
    },
    {
      "cell_type": "code",
      "source": [
        "import matplotlib\n",
        "import matplotlib.pyplot as plt\n",
        "from matplotlib import cm\n",
        "from matplotlib.collections import PatchCollection,LineCollection\n",
        "from matplotlib.patches import Rectangle\n",
        "from matplotlib.lines import Line2D\n",
        "from matplotlib.dates import AutoDateFormatter, AutoDateLocator, date2num"
      ],
      "metadata": {
        "id": "wDkGPP3wq7Zp"
      },
      "execution_count": null,
      "outputs": []
    },
    {
      "cell_type": "code",
      "source": [
        "cm.get_cmap(\"Set3\")(2)"
      ],
      "metadata": {
        "colab": {
          "base_uri": "https://localhost:8080/"
        },
        "id": "b0GpQ9oiM52k",
        "outputId": "e332513b-b62d-4568-d32d-c0525599f694"
      },
      "execution_count": null,
      "outputs": [
        {
          "output_type": "execute_result",
          "data": {
            "text/plain": [
              "(0.7450980392156863, 0.7294117647058823, 0.8549019607843137, 1.0)"
            ]
          },
          "metadata": {},
          "execution_count": 126
        }
      ]
    },
    {
      "cell_type": "code",
      "source": [
        "import tnetwork as tn\n",
        "import math\n",
        "import numpy as np"
      ],
      "metadata": {
        "id": "yAaFPXRTq83J"
      },
      "execution_count": null,
      "outputs": []
    },
    {
      "cell_type": "code",
      "source": [
        ""
      ],
      "metadata": {
        "id": "aZuOwEQwrC1J"
      },
      "execution_count": null,
      "outputs": []
    },
    {
      "cell_type": "code",
      "source": [
        "gg = tn.DynGraphIG()\n",
        "gg.add_node_presence(0,(0,5))\n",
        "gg.add_node_presence(1,(2,5))\n",
        "gg.add_node_presence(2,(0,3))\n",
        "gg.add_interaction(0,1,(2,3))"
      ],
      "metadata": {
        "id": "pjCY5SVWrKao"
      },
      "execution_count": null,
      "outputs": []
    },
    {
      "cell_type": "code",
      "source": [
        "def plot_longitudinal_pyplot(edges,nodes,coms=None,path=None,markers=None,to_datetime=False,width=800,height=200,sparse_coms=False):\n",
        "    fig, ax = plt.subplots(1,figsize=(width/100,height/100),dpi=100)\n",
        "    periods = []\n",
        "\n",
        "    node2y = {n:i for i,n in enumerate(nodes)}\n",
        "    # Loop over data points; create box from errors at each point\n",
        "    x_column = \"time\"\n",
        "\n",
        "    max_x = 0\n",
        "    min_x = math.inf\n",
        "    for n in nodes:\n",
        "      for p in nodes[n].periods():\n",
        "        print(p)\n",
        "        start_x = p[0]\n",
        "        end_x=p[1]\n",
        "\n",
        "        slot_width = p[1]-p[0]\n",
        "        if to_datetime:\n",
        "            start_x=date2num(start_x)\n",
        "            slot_width = date2num(edges[x_column][i]+slot_width)-start_x\n",
        "        max_x=max(max_x,start_x+slot_width)\n",
        "        min_x = min(min_x,start_x)\n",
        "        #rect = Rectangle(( start_x,node2y[n]), width=slot_width, height=0.9,color=\"grey\",edgecolor=None)\n",
        "        #node_life= Line2D([start_x,p[1]],[node2y[n],node2y[n]],linewidth=5)\n",
        "        periods.append([(start_x,node2y[n]),(end_x,node2y[n])])\n",
        "    nodes_lifes = LineCollection(periods, linestyle=\"-\",zorder=0,colors=\"navy\",linewidths=1)\n",
        "    #nodes_lifes = LineCollection(periods, linestyle=(0, (5, 1)),zorder=0,colors=\"lightgrey\",linewidths=5)\n",
        "\n",
        "\n",
        "  \n",
        "    # Add collection to axes\n",
        "    ax.add_collection(nodes_lifes)\n",
        "\n",
        "\n",
        "    periods = []\n",
        "    dots_x=[]\n",
        "    dots_y=[]\n",
        "    for e in edges:\n",
        "      for p in edges[e]:\n",
        "        print(p)\n",
        "        u,v=e\n",
        "        start_x=p[0]\n",
        "        end_x=p[1]\n",
        "        y=min(node2y[u],node2y[v])+abs(node2y[u]-node2y[v])*0.66\n",
        "        if to_datetime:\n",
        "            start_x=date2num(start_x)\n",
        "            slot_width = date2num(edges[x_column][i]+slot_width)-start_x\n",
        "        periods.append([(start_x,y),(end_x,y)])\n",
        "        periods.append([(start_x,node2y[u]),(start_x,node2y[v])])\n",
        "        dots_x+=[start_x,start_x]\n",
        "        dots_y+=[node2y[u],node2y[v]]\n",
        "    edges_lifes = LineCollection(periods, linestyle=(0, (5, 1)),colors=\"cornflowerblue\")\n",
        "    ax.add_collection(edges_lifes)\n",
        "    ax.scatter(dots_x,dots_y,color=\"grey\",zorder=10,s=10)\n",
        "\n",
        "\n",
        "    coms_rectangle=[]\n",
        "    comsID=[]\n",
        "    if coms!=None:\n",
        "      for comID,com in coms.items():\n",
        "        for node in com:\n",
        "          for p in com[node].periods():\n",
        "            comsID.append(comID)\n",
        "            start_x=p[0]\n",
        "            h=1\n",
        "            if sparse_coms:\n",
        "              h=0.3\n",
        "            coms_rectangle.append(Rectangle(( start_x,node2y[node]-(h/2)), width=p[1]-start_x, height=h))\n",
        "      pc=PatchCollection(coms_rectangle,edgecolor=None,alpha=0.2,cmap=cm.Set1)\n",
        "      pc.set_array(np.array(comsID))\n",
        "      ax.add_collection(pc)\n",
        "\n",
        "    if path!=None:\n",
        "      segments=[]\n",
        "      for i in range(len(path)-1):\n",
        "        u0,t0=path[i]\n",
        "        u1,t1=path[i+1]\n",
        "        segments.append([(t0,node2y[u0]),(t1,node2y[u1])])\n",
        "      path_line = LineCollection(segments, linestyle=\"-\",zorder=10,colors=\"orange\",linewidths=4,alpha=0.5)\n",
        "\n",
        "      ax.add_collection(path_line)\n",
        "\n",
        "    if markers!=None:\n",
        "      ax.scatter([coord[1] for coord in markers],[coord[0] for coord in markers],color=\"red\",zorder=20,s=60,marker=\"X\")\n",
        "\n",
        "\n",
        "    #ax.spines['left'].set_position('zero')\n",
        "    ax.spines['left'].set_visible(False)\n",
        "    ax.spines['right'].set_visible(False)\n",
        "    #ax.spines['bottom'].set_visible(\"zero\")\n",
        "    ax.spines['top'].set_visible(False)\n",
        "    ax.plot((1), (-0.5), ls=\"\", marker=\">\", ms=5, color=\"k\",\n",
        "            transform=ax.get_yaxis_transform(), clip_on=False)\n",
        "    ax.tick_params(axis=u'y',length=0)\n",
        "    plt.xlabel('time', fontsize=12)\n",
        "    plt.ylabel('nodes', fontsize=12)\n",
        "    \n",
        "    if to_datetime:\n",
        "        locator = AutoDateLocator(minticks=2)\n",
        "        formatter = AutoDateFormatter(locator)\n",
        "        ax.xaxis.set_major_locator(locator)\n",
        "        ax.xaxis.set_major_formatter(formatter)\n",
        "  \n",
        "    ax.set(xlim=(min_x-0.5, max_x+(max_x-min_x)/50), ylim=(-0.5, float(len(nodes))))\n",
        "\n",
        "    if to_datetime:\n",
        "        plt.xticks(rotation=50)\n",
        "    else:\n",
        "        plt.xticks(range(0,max_x,1))\n",
        "\n",
        "    if len(nodes)<=30:\n",
        "        plt.yticks(np.arange(0,float(len(nodes)),1.0), nodes)\n",
        "    else:\n",
        "        ax.set_yticklabels([])\n",
        "\n",
        "\n",
        "\n",
        "\n",
        "    class GridShader():\n",
        "      def __init__(self, ax, first=True, **kwargs):\n",
        "          self.spans = []\n",
        "          self.sf = first\n",
        "          self.ax = ax\n",
        "          self.kw = kwargs\n",
        "          self.ax.autoscale(False, axis=\"x\")\n",
        "          self.cid = self.ax.callbacks.connect('xlim_changed', self.shade)\n",
        "          self.shade()\n",
        "      def clear(self):\n",
        "          for span in self.spans:\n",
        "              try:\n",
        "                  span.remove()\n",
        "              except:\n",
        "                  pass\n",
        "      def shade(self, evt=None):\n",
        "          self.clear()\n",
        "          xticks = self.ax.get_xticks()\n",
        "          xlim = self.ax.get_xlim()\n",
        "          xticks = xticks[(xticks > xlim[0]) & (xticks < xlim[-1])]\n",
        "          locs = np.concatenate(([[xlim[0]], xticks, [xlim[-1]]]))\n",
        "\n",
        "          start = locs[1-int(self.sf)::2]  \n",
        "          end = locs[2-int(self.sf)::2]\n",
        "\n",
        "          for s, e in zip(start, end):\n",
        "              self.spans.append(self.ax.axvspan(s, e, zorder=-1, **self.kw))\n",
        "    \n",
        "\n",
        "    gs = GridShader(ax, facecolor=\"#fcfcfc\", first=False, alpha=0.7)\n",
        "\n",
        "\n",
        "\n",
        "\n",
        "    return plt.gcf()"
      ],
      "metadata": {
        "id": "c0BHXz0gn0_S"
      },
      "execution_count": null,
      "outputs": []
    },
    {
      "cell_type": "code",
      "source": [
        "plot_longitudinal_pyplot(gg.edge_presence(),gg.node_presence())"
      ],
      "metadata": {
        "colab": {
          "base_uri": "https://localhost:8080/",
          "height": 521
        },
        "id": "IsWDg_jnrdqr",
        "outputId": "2b19bba9-a57c-4978-b873-c2fa2f8b7128"
      },
      "execution_count": null,
      "outputs": [
        {
          "output_type": "stream",
          "name": "stdout",
          "text": [
            "(0, 5)\n",
            "(2, 5)\n",
            "(0, 3)\n",
            "(2, 3)\n"
          ]
        },
        {
          "output_type": "execute_result",
          "data": {
            "image/png": "[encoded data removed]",
            "text/plain": [
              "<Figure size 800x200 with 1 Axes>"
            ]
          },
          "metadata": {},
          "execution_count": 130
        },
        {
          "output_type": "display_data",
          "data": {
            "image/png": "[encoded data removed]",
            "text/plain": [
              "<Figure size 800x200 with 1 Axes>"
            ]
          },
          "metadata": {
            "needs_background": "light"
          }
        }
      ]
    },
    {
      "cell_type": "code",
      "source": [
        "gg.edge_presence()"
      ],
      "metadata": {
        "colab": {
          "base_uri": "https://localhost:8080/"
        },
        "id": "zCZZD11qr2YN",
        "outputId": "dbd50986-682a-429c-9827-9c415ca6c07e"
      },
      "execution_count": null,
      "outputs": [
        {
          "output_type": "execute_result",
          "data": {
            "text/plain": [
              "{frozenset({0, 1}): [(2, 3)]}"
            ]
          },
          "metadata": {},
          "execution_count": 131
        }
      ]
    },
    {
      "cell_type": "code",
      "source": [
        "gg = tn.DynGraphIG()\n",
        "gg.add_node_presence(0,(0,1))\n",
        "gg.add_node_presence(1,(0,3))\n",
        "gg.add_node_presence(2,(1,3))\n",
        "gg.add_interaction(0,1,(0,1))\n",
        "gg.add_interaction(1,2,(1,3))\n",
        "x = plot_longitudinal_pyplot(gg.edge_presence(),gg.node_presence(),width=200,height=200)"
      ],
      "metadata": {
        "colab": {
          "base_uri": "https://localhost:8080/",
          "height": 320
        },
        "id": "aV2DxFu5r2pB",
        "outputId": "44d4aadd-183e-49c5-ecd4-1796fbb13b15"
      },
      "execution_count": null,
      "outputs": [
        {
          "output_type": "stream",
          "name": "stdout",
          "text": [
            "(0, 1)\n",
            "(0, 3)\n",
            "(1, 3)\n",
            "(0, 1)\n",
            "(1, 3)\n"
          ]
        },
        {
          "output_type": "display_data",
          "data": {
            "image/png": "[encoded data removed]",
            "text/plain": [
              "<Figure size 200x200 with 1 Axes>"
            ]
          },
          "metadata": {
            "needs_background": "light"
          }
        }
      ]
    },
    {
      "cell_type": "code",
      "source": [
        "gg = tn.DynGraphIG()\n",
        "gg.add_node_presence(0,(0,1))\n",
        "gg.add_node_presence(1,(0,3))\n",
        "gg.add_node_presence(2,(0,1))\n",
        "gg.add_node_presence(2,(2,3))\n",
        "\n",
        "gg.add_interaction(0,1,(0,1))\n",
        "gg.add_interaction(1,2,(0,1))\n",
        "gg.add_interaction(1,2,(2,3))\n",
        "\n",
        "x = plot_longitudinal_pyplot(gg.edge_presence(),gg.node_presence(),width=200,height=200)"
      ],
      "metadata": {
        "colab": {
          "base_uri": "https://localhost:8080/",
          "height": 354
        },
        "id": "1fd4eUUgFEFp",
        "outputId": "d73768b1-64e7-4aa0-e78b-d7d26cb4ba3c"
      },
      "execution_count": null,
      "outputs": [
        {
          "output_type": "stream",
          "name": "stdout",
          "text": [
            "(0, 1)\n",
            "(0, 3)\n",
            "(0, 1)\n",
            "(2, 3)\n",
            "(0, 1)\n",
            "(0, 1)\n",
            "(2, 3)\n"
          ]
        },
        {
          "output_type": "display_data",
          "data": {
            "image/png": "[encoded data removed]",
            "text/plain": [
              "<Figure size 200x200 with 1 Axes>"
            ]
          },
          "metadata": {
            "needs_background": "light"
          }
        }
      ]
    },
    {
      "cell_type": "code",
      "source": [
        "gg = tn.DynGraphIG()\n",
        "gg.add_node_presence(0,(0,1))\n",
        "gg.add_node_presence(0,(2,3))\n",
        "gg.add_node_presence(1,(0,1))\n",
        "gg.add_node_presence(1,(2,3))\n",
        "gg.add_node_presence(2,(0,1))\n",
        "gg.add_node_presence(2,(2,3))\n",
        "\n",
        "gg.add_interaction(0,1,(0,1))\n",
        "gg.add_interaction(1,2,(0,1))\n",
        "gg.add_interaction(1,2,(2,3))\n",
        "#gg.add_interaction(0,1,(2,3))\n",
        "\n",
        "\n",
        "x = plot_longitudinal_pyplot(gg.edge_presence(),gg.node_presence(),width=200,height=200)"
      ],
      "metadata": {
        "colab": {
          "base_uri": "https://localhost:8080/",
          "height": 388
        },
        "id": "HgTPXPYeKvvW",
        "outputId": "97728f1e-dd42-45bf-ac13-a0d152c7ee8d"
      },
      "execution_count": null,
      "outputs": [
        {
          "output_type": "stream",
          "name": "stdout",
          "text": [
            "(0, 1)\n",
            "(2, 3)\n",
            "(0, 1)\n",
            "(2, 3)\n",
            "(0, 1)\n",
            "(2, 3)\n",
            "(0, 1)\n",
            "(0, 1)\n",
            "(2, 3)\n"
          ]
        },
        {
          "output_type": "display_data",
          "data": {
            "image/png": "[encoded data removed]",
            "text/plain": [
              "<Figure size 200x200 with 1 Axes>"
            ]
          },
          "metadata": {
            "needs_background": "light"
          }
        }
      ]
    },
    {
      "cell_type": "code",
      "source": [
        "gg = tn.DynGraphIG()\n",
        "gg.add_node_presence(0,(0,7))\n",
        "gg.add_node_presence(1,(0,10))\n",
        "gg.add_node_presence(2,(0,10))\n",
        "gg.add_node_presence(3,(2,10))\n",
        "\n",
        "gg.add_interaction(0,1,(1,6))\n",
        "gg.add_interaction(1,2,(2.5,4))\n",
        "gg.add_interaction(1,2,(7,8))\n",
        "gg.add_interaction(2,3,(4,9))\n",
        "gg.add_interaction(0,2,(2,7))\n",
        "gg.add_interaction(1,3,(5,6))\n",
        "\n",
        "#gg.add_interaction(0,1,(2,3))\n",
        "\n",
        "\n",
        "\n",
        "\n",
        "com1=tn.DynCommunitiesIG()\n",
        "com1.add_affiliation(0,1,[(2,6)])\n",
        "com1.add_affiliation(1,1,[(1,4)])\n",
        "com1.add_affiliation(1,1,[(6,10)])\n",
        "com1.add_affiliation(2,1,[(3,8)])\n",
        "\n",
        "x = plot_longitudinal_pyplot(gg.edge_presence(),gg.node_presence(),com1.communities(),width=600,height=200,sparse_coms=True)\n"
      ],
      "metadata": {
        "colab": {
          "base_uri": "https://localhost:8080/",
          "height": 405
        },
        "id": "Hqv7QZTkLc0J",
        "outputId": "1484f3e6-5c0b-4ca1-9214-1721ca24e1b7"
      },
      "execution_count": null,
      "outputs": [
        {
          "output_type": "stream",
          "name": "stdout",
          "text": [
            "(0, 7)\n",
            "(0, 10)\n",
            "(0, 10)\n",
            "(2, 10)\n",
            "(1, 6)\n",
            "(2, 7)\n",
            "(2.5, 4)\n",
            "(7, 8)\n",
            "(5, 6)\n",
            "(4, 9)\n"
          ]
        },
        {
          "output_type": "display_data",
          "data": {
            "image/png": "[encoded data removed]",
            "text/plain": [
              "<Figure size 600x200 with 1 Axes>"
            ]
          },
          "metadata": {
            "needs_background": "light"
          }
        }
      ]
    },
    {
      "cell_type": "code",
      "source": [
        "def subnet(tg,cluster):\n",
        "  to_return=tn.DynGraphIG()\n",
        "  for n,p in tg.node_presence().items():\n",
        "    if n in cluster:\n",
        "      to_return.add_node_presence(n,p.intersection(cluster[n]))\n",
        "  for e,p in tg.interactions_intervals().items():\n",
        "    u,v=e\n",
        "    if u in cluster and v in cluster:\n",
        "      print(p)\n",
        "      to_return.add_interaction(u,v,p.intersection(cluster[u]).intersection(cluster[v]))\n",
        "  return to_return"
      ],
      "metadata": {
        "id": "vnRogNOgRoMf"
      },
      "execution_count": null,
      "outputs": []
    },
    {
      "cell_type": "code",
      "source": [
        "subtn = subnet(gg,com1.communities()[1])"
      ],
      "metadata": {
        "colab": {
          "base_uri": "https://localhost:8080/"
        },
        "id": "rVjh-KrofISg",
        "outputId": "d3c7ad52-cd7e-43ff-e1cb-eb5e18adac24"
      },
      "execution_count": null,
      "outputs": [
        {
          "output_type": "stream",
          "name": "stdout",
          "text": [
            "[1,6[ \n",
            "[2,7[ \n",
            "[2.5,4[ [7,8[ \n"
          ]
        }
      ]
    },
    {
      "cell_type": "code",
      "source": [
        "x = plot_longitudinal_pyplot(subtn.edge_presence(),subtn.node_presence(),width=600,height=200,sparse_coms=True)\n"
      ],
      "metadata": {
        "colab": {
          "base_uri": "https://localhost:8080/",
          "height": 371
        },
        "id": "9TWhCdZIl8V1",
        "outputId": "0b760a5e-e53c-4b63-89f6-c739ba28371c"
      },
      "execution_count": null,
      "outputs": [
        {
          "output_type": "stream",
          "name": "stdout",
          "text": [
            "(2, 6)\n",
            "(1, 4)\n",
            "(6, 10)\n",
            "(3, 8)\n",
            "(2, 4)\n",
            "(3, 6)\n",
            "(3, 4)\n",
            "(7, 8)\n"
          ]
        },
        {
          "output_type": "display_data",
          "data": {
            "image/png": "[encoded data removed]",
            "text/plain": [
              "<Figure size 600x200 with 1 Axes>"
            ]
          },
          "metadata": {
            "needs_background": "light"
          }
        }
      ]
    },
    {
      "cell_type": "code",
      "source": [
        "com1.communities()[1]"
      ],
      "metadata": {
        "colab": {
          "base_uri": "https://localhost:8080/"
        },
        "id": "ZpCKzrm1fIYj",
        "outputId": "5a499f07-1d79-4115-c250-983da4fa29d9"
      },
      "execution_count": null,
      "outputs": [
        {
          "output_type": "execute_result",
          "data": {
            "text/plain": [
              "{0: [2,6[ , 1: [1,4[ [6,10[ , 2: [3,8[ }"
            ]
          },
          "metadata": {},
          "execution_count": 139
        }
      ]
    },
    {
      "cell_type": "code",
      "source": [
        ""
      ],
      "metadata": {
        "id": "00HH7YZZM2pv"
      },
      "execution_count": null,
      "outputs": []
    },
    {
      "cell_type": "code",
      "source": [
        "gg = tn.DynGraphIG()\n",
        "gg.add_node_presence(0,(0,10))\n",
        "gg.add_node_presence(1,(0,10))\n",
        "gg.add_node_presence(2,(0,10))\n",
        "gg.add_node_presence(3,(0,10))\n",
        "gg.add_node_presence(4,(0,10))\n",
        "\n",
        "\n",
        "gg.add_interaction(0,1,(1,6))\n",
        "gg.add_interaction(1,2,(3,9))\n",
        "gg.add_interaction(0,2,(2,5))\n",
        "gg.add_interaction(2,3,(6,9))\n",
        "gg.add_interaction(3,4,(1,3))\n",
        "gg.add_interaction(3,4,(7,10))\n",
        "gg.add_interaction(2,4,(5,8))\n",
        "\n",
        "\n",
        "#gg.add_interaction(0,1,(2,3))\n",
        "\n",
        "\n",
        "\n",
        "\n",
        "com1=tn.DynCommunitiesIG()\n",
        "com1.add_affiliation(0,1,[(3,5)])\n",
        "com1.add_affiliation(1,1,[(3,5)])\n",
        "com1.add_affiliation(2,1,[(3,5)])\n",
        "\n",
        "com1.add_affiliation(2,2,[(7,8)])\n",
        "com1.add_affiliation(3,2,[(7,8)])\n",
        "com1.add_affiliation(4,2,[(7,8)])\n",
        "\n",
        "x = plot_longitudinal_pyplot(gg.edge_presence(),gg.node_presence(),com1.communities(),width=600,height=200,sparse_coms=False)\n"
      ],
      "metadata": {
        "colab": {
          "base_uri": "https://localhost:8080/",
          "height": 439
        },
        "id": "lkEnKQ92NETn",
        "outputId": "18e5ca64-88bf-4b6b-da75-712482dea67c"
      },
      "execution_count": null,
      "outputs": [
        {
          "output_type": "stream",
          "name": "stdout",
          "text": [
            "(0, 10)\n",
            "(0, 10)\n",
            "(0, 10)\n",
            "(0, 10)\n",
            "(0, 10)\n",
            "(1, 6)\n",
            "(2, 5)\n",
            "(3, 9)\n",
            "(6, 9)\n",
            "(5, 8)\n",
            "(1, 3)\n",
            "(7, 10)\n"
          ]
        },
        {
          "output_type": "display_data",
          "data": {
            "image/png": "[encoded data removed]",
            "text/plain": [
              "<Figure size 600x200 with 1 Axes>"
            ]
          },
          "metadata": {
            "needs_background": "light"
          }
        }
      ]
    },
    {
      "cell_type": "markdown",
      "source": [
        "# neighborhood"
      ],
      "metadata": {
        "id": "djoNoMjSqB9W"
      }
    },
    {
      "cell_type": "code",
      "source": [
        "gg = tn.DynGraphIG()\n",
        "gg.add_node_presence(0,(0,7))\n",
        "gg.add_node_presence(1,(0,10))\n",
        "gg.add_node_presence(2,(0,10))\n",
        "gg.add_node_presence(3,(2,10))\n",
        "\n",
        "gg.add_interaction(0,1,(1,6))\n",
        "gg.add_interaction(1,2,(2.5,4))\n",
        "gg.add_interaction(1,2,(7,8))\n",
        "gg.add_interaction(2,3,(4,9))\n",
        "gg.add_interaction(0,2,(2,7))\n",
        "gg.add_interaction(1,3,(5,6))\n",
        "\n",
        "#gg.add_interaction(0,1,(2,3))\n",
        "\n",
        "\n",
        "\n",
        "\n",
        "com1=tn.DynCommunitiesIG()\n",
        "com1.add_affiliation(2,0,[(0,10)])\n",
        "com1.add_affiliation(1,1,[(2.5,4)])\n",
        "com1.add_affiliation(1,1,[(7,8)])\n",
        "\n",
        "com1.add_affiliation(0,1,[(2,7)])\n",
        "com1.add_affiliation(3,1,[(4,9)])\n",
        "\n",
        "x = plot_longitudinal_pyplot(gg.edge_presence(),gg.node_presence(),com1.communities(),width=600,height=200,sparse_coms=True)\n"
      ],
      "metadata": {
        "colab": {
          "base_uri": "https://localhost:8080/",
          "height": 405
        },
        "id": "r2MQd-TFQk0j",
        "outputId": "39c6082f-c931-4b5f-ed74-1107d8b16b99"
      },
      "execution_count": null,
      "outputs": [
        {
          "output_type": "stream",
          "name": "stdout",
          "text": [
            "(0, 7)\n",
            "(0, 10)\n",
            "(0, 10)\n",
            "(2, 10)\n",
            "(1, 6)\n",
            "(2, 7)\n",
            "(2.5, 4)\n",
            "(7, 8)\n",
            "(5, 6)\n",
            "(4, 9)\n"
          ]
        },
        {
          "output_type": "display_data",
          "data": {
            "image/png": "[encoded data removed]",
            "text/plain": [
              "<Figure size 600x200 with 1 Axes>"
            ]
          },
          "metadata": {
            "needs_background": "light"
          }
        }
      ]
    },
    {
      "cell_type": "markdown",
      "source": [
        "# Connected components"
      ],
      "metadata": {
        "id": "Pfbe4jK1rQpK"
      }
    },
    {
      "cell_type": "code",
      "source": [
        "gg = tn.DynGraphIG()\n",
        "gg.add_node_presence(0,(0,3))\n",
        "gg.add_node_presence(1,(1,6))\n",
        "gg.add_node_presence(2,(0,4))\n",
        "gg.add_node_presence(2,(6,10))\n",
        "gg.add_node_presence(3,(0,4))\n",
        "gg.add_node_presence(4,(5,8))\n",
        "gg.add_node_presence(5,(2,8))\n",
        "gg.add_node_presence(6,(3,5))\n",
        "\n",
        "\n",
        "\n",
        "gg.add_interaction(0,1,(1,2))\n",
        "gg.add_interaction(1,2,(2,4))\n",
        "gg.add_interaction(2,3,(2,3))\n",
        "gg.add_interaction(2,4,(6,7))\n",
        "gg.add_interaction(5,4,(5,6))\n",
        "\n",
        "# gg.add_interaction(0,2,(2,7))\n",
        "# gg.add_interaction(1,3,(5,6))\n",
        "\n",
        "#gg.add_interaction(0,1,(2,3))\n",
        "\n",
        "\n",
        "\n",
        "\n",
        "com1=tn.DynCommunitiesIG()\n",
        "com1.add_affiliation(0,0,[(0,3)])\n",
        "com1.add_affiliation(1,0,[(1,6)])\n",
        "com1.add_affiliation(2,0,[(0,4)])\n",
        "com1.add_affiliation(3,0,[(0,4)])\n",
        "\n",
        "\n",
        "com1.add_affiliation(5,5,[(2,8)])\n",
        "com1.add_affiliation(4,5,[(5,8)])\n",
        "com1.add_affiliation(2,5,[(6,10)])\n",
        "\n",
        "com1.add_affiliation(6,6,[(3,5)])\n",
        "\n",
        "\n",
        "x = plot_longitudinal_pyplot(gg.edge_presence(),gg.node_presence(),com1.communities(),width=600,height=200,sparse_coms=True)\n"
      ],
      "metadata": {
        "colab": {
          "base_uri": "https://localhost:8080/",
          "height": 456
        },
        "id": "-AFY8ruXebfY",
        "outputId": "aa4a482d-ef36-46b3-9863-c4907fcb16d3"
      },
      "execution_count": null,
      "outputs": [
        {
          "output_type": "stream",
          "name": "stdout",
          "text": [
            "(0, 3)\n",
            "(1, 6)\n",
            "(0, 4)\n",
            "(6, 10)\n",
            "(0, 4)\n",
            "(5, 8)\n",
            "(2, 8)\n",
            "(3, 5)\n",
            "(1, 2)\n",
            "(2, 4)\n",
            "(2, 3)\n",
            "(6, 7)\n",
            "(5, 6)\n"
          ]
        },
        {
          "output_type": "display_data",
          "data": {
            "image/png": "[encoded data removed]",
            "text/plain": [
              "<Figure size 600x200 with 1 Axes>"
            ]
          },
          "metadata": {
            "needs_background": "light"
          }
        }
      ]
    },
    {
      "cell_type": "markdown",
      "source": [
        "# Paths"
      ],
      "metadata": {
        "id": "5GfjYUzgzBsg"
      }
    },
    {
      "cell_type": "code",
      "source": [
        "gg = tn.DynGraphIG()\n",
        "for i in range(6):\n",
        "  gg.add_node_presence(i,(0,15))\n",
        "\n",
        "gg.add_interaction(0,1,(2,2))\n",
        "gg.add_interaction(1,5,(4,4))\n",
        "gg.add_interaction(4,5,(7,7))\n",
        "gg.add_interaction(0,5,(8,8))\n",
        "gg.add_interaction(0,1,(9,9))\n",
        "gg.add_interaction(1,2,(10,10))\n",
        "gg.add_interaction(2,4,(11,11))\n",
        "gg.add_interaction(4,5,(13,13))\n",
        "\n",
        "#gg.add_interaction(0,1,(2,3))\n",
        "\n",
        "\n",
        "\n",
        "\n",
        "x = plot_longitudinal_pyplot(gg.edge_presence(),gg.node_presence(),path=[(0,2),(1,2),(1,4),(5,4),(5,7),(4,7)],markers=[(0,1),(4,14)],width=600,height=200,sparse_coms=True)\n"
      ],
      "metadata": {
        "colab": {
          "base_uri": "https://localhost:8080/",
          "height": 473
        },
        "id": "1ViXBKG3euQq",
        "outputId": "3c8ea33d-a436-4da9-f25d-9f8fb4fc9618"
      },
      "execution_count": null,
      "outputs": [
        {
          "output_type": "stream",
          "name": "stdout",
          "text": [
            "(0, 15)\n",
            "(0, 15)\n",
            "(0, 15)\n",
            "(0, 15)\n",
            "(0, 15)\n",
            "(0, 15)\n",
            "(2, 2)\n",
            "(9, 9)\n",
            "(8, 8)\n",
            "(4, 4)\n",
            "(10, 10)\n",
            "(11, 11)\n",
            "(7, 7)\n",
            "(13, 13)\n"
          ]
        },
        {
          "output_type": "display_data",
          "data": {
            "image/png": "[encoded data removed]",
            "text/plain": [
              "<Figure size 600x200 with 1 Axes>"
            ]
          },
          "metadata": {
            "needs_background": "light"
          }
        }
      ]
    },
    {
      "cell_type": "code",
      "source": [
        "gg = tn.DynGraphIG()\n",
        "for i in range(6):\n",
        "  gg.add_node_presence(i,(0,15))\n",
        "\n",
        "gg.add_interaction(0,1,(2,2))\n",
        "gg.add_interaction(1,5,(4,4))\n",
        "gg.add_interaction(4,5,(7,7))\n",
        "gg.add_interaction(0,5,(8,8))\n",
        "gg.add_interaction(0,1,(9,9))\n",
        "gg.add_interaction(1,2,(10,10))\n",
        "gg.add_interaction(2,4,(11,11))\n",
        "gg.add_interaction(4,5,(13,13))\n",
        "\n",
        "#gg.add_interaction(0,1,(2,3))\n",
        "\n",
        "\n",
        "\n",
        "\n",
        "x = plot_longitudinal_pyplot(gg.edge_presence(),gg.node_presence(),path=[(0,8),(5,8),(5,13),(4,13)],markers=[(0,1),(4,14)],width=600,height=200,sparse_coms=True)\n"
      ],
      "metadata": {
        "colab": {
          "base_uri": "https://localhost:8080/",
          "height": 473
        },
        "id": "RpTFppgpxXrt",
        "outputId": "be596719-2446-4cfa-c3e0-9bac1e7c03df"
      },
      "execution_count": null,
      "outputs": [
        {
          "output_type": "stream",
          "name": "stdout",
          "text": [
            "(0, 15)\n",
            "(0, 15)\n",
            "(0, 15)\n",
            "(0, 15)\n",
            "(0, 15)\n",
            "(0, 15)\n",
            "(2, 2)\n",
            "(9, 9)\n",
            "(8, 8)\n",
            "(4, 4)\n",
            "(10, 10)\n",
            "(11, 11)\n",
            "(7, 7)\n",
            "(13, 13)\n"
          ]
        },
        {
          "output_type": "display_data",
          "data": {
            "image/png": "[encoded data removed]",
            "text/plain": [
              "<Figure size 600x200 with 1 Axes>"
            ]
          },
          "metadata": {
            "needs_background": "light"
          }
        }
      ]
    },
    {
      "cell_type": "code",
      "source": [
        "gg = tn.DynGraphIG()\n",
        "for i in range(6):\n",
        "  gg.add_node_presence(i,(0,15))\n",
        "\n",
        "gg.add_interaction(0,1,(2,2))\n",
        "gg.add_interaction(1,5,(4,4))\n",
        "gg.add_interaction(4,5,(7,7))\n",
        "gg.add_interaction(0,5,(8,8))\n",
        "gg.add_interaction(0,1,(9,9))\n",
        "gg.add_interaction(1,2,(10,10))\n",
        "gg.add_interaction(2,4,(11,11))\n",
        "gg.add_interaction(4,5,(13,13))\n",
        "\n",
        "#gg.add_interaction(0,1,(2,3))\n",
        "\n",
        "\n",
        "\n",
        "\n",
        "x = plot_longitudinal_pyplot(gg.edge_presence(),gg.node_presence(),path=[(0,9),(1,9),(1,10),(2,10),(2,11),(4,11)],markers=[(0,1),(4,14)],width=600,height=200,sparse_coms=True)\n"
      ],
      "metadata": {
        "colab": {
          "base_uri": "https://localhost:8080/",
          "height": 473
        },
        "id": "pF2c9KkBxZc0",
        "outputId": "1fadf42c-2373-48fc-ed2f-f54855f5332c"
      },
      "execution_count": null,
      "outputs": [
        {
          "output_type": "stream",
          "name": "stdout",
          "text": [
            "(0, 15)\n",
            "(0, 15)\n",
            "(0, 15)\n",
            "(0, 15)\n",
            "(0, 15)\n",
            "(0, 15)\n",
            "(2, 2)\n",
            "(9, 9)\n",
            "(8, 8)\n",
            "(4, 4)\n",
            "(10, 10)\n",
            "(11, 11)\n",
            "(7, 7)\n",
            "(13, 13)\n"
          ]
        },
        {
          "output_type": "display_data",
          "data": {
            "image/png": "[encoded data removed]",
            "text/plain": [
              "<Figure size 600x200 with 1 Axes>"
            ]
          },
          "metadata": {
            "needs_background": "light"
          }
        }
      ]
    },
    {
      "cell_type": "code",
      "source": [
        "gg = tn.DynGraphIG()\n",
        "gg.add_node_presence(0,(0,7))\n",
        "gg.add_node_presence(1,(0,10))\n",
        "gg.add_node_presence(2,(0,10))\n",
        "gg.add_node_presence(3,(2,10))\n",
        "\n",
        "gg.add_interaction(0,1,(1,6))\n",
        "gg.add_interaction(1,2,(2.5,4))\n",
        "gg.add_interaction(1,2,(7,8))\n",
        "gg.add_interaction(2,3,(4,9))\n",
        "gg.add_interaction(0,2,(2,7))\n",
        "gg.add_interaction(1,3,(5,6))\n",
        "\n",
        "#gg.add_interaction(0,1,(2,3))\n",
        "\n",
        "\n",
        "\n",
        "\n",
        "\n",
        "x = plot_longitudinal_pyplot(gg.edge_presence(),gg.node_presence(),path=[(0,1),(1,1),(1,3),(2,3),(2,4.5),(3,4.5)],markers=[(0,0.5),(3,7)],width=600,height=200,sparse_coms=True)\n"
      ],
      "metadata": {
        "colab": {
          "base_uri": "https://localhost:8080/",
          "height": 405
        },
        "id": "ou_2j_4BUku0",
        "outputId": "2920156d-9676-4d26-dd85-23a96eed4bcd"
      },
      "execution_count": null,
      "outputs": [
        {
          "output_type": "stream",
          "name": "stdout",
          "text": [
            "(0, 7)\n",
            "(0, 10)\n",
            "(0, 10)\n",
            "(2, 10)\n",
            "(1, 6)\n",
            "(2, 7)\n",
            "(2.5, 4)\n",
            "(7, 8)\n",
            "(5, 6)\n",
            "(4, 9)\n"
          ]
        },
        {
          "output_type": "display_data",
          "data": {
            "image/png": "[encoded data removed]",
            "text/plain": [
              "<Figure size 600x200 with 1 Axes>"
            ]
          },
          "metadata": {
            "needs_background": "light"
          }
        }
      ]
    },
    {
      "cell_type": "code",
      "source": [
        "gg = tn.DynGraphIG()\n",
        "gg.add_node_presence(0,(0,7))\n",
        "gg.add_node_presence(1,(0,10))\n",
        "gg.add_node_presence(2,(0,10))\n",
        "gg.add_node_presence(3,(2,10))\n",
        "\n",
        "gg.add_interaction(0,1,(1,6))\n",
        "gg.add_interaction(1,2,(2.5,4))\n",
        "gg.add_interaction(1,2,(7,8))\n",
        "gg.add_interaction(2,3,(4,9))\n",
        "gg.add_interaction(0,2,(2,7))\n",
        "gg.add_interaction(1,3,(5,6))\n",
        "\n",
        "#gg.add_interaction(0,1,(2,3))\n",
        "\n",
        "\n",
        "\n",
        "\n",
        "\n",
        "x = plot_longitudinal_pyplot(gg.edge_presence(),gg.node_presence(),path=[(0,3),(2,3),(2,4),(1,4),(1,5),(3,5)],markers=[(0,0.5),(3,7)],width=600,height=200,sparse_coms=True)\n"
      ],
      "metadata": {
        "colab": {
          "base_uri": "https://localhost:8080/",
          "height": 405
        },
        "id": "276-eQWjVObW",
        "outputId": "0261ae61-0448-46dc-ca93-2309b103ed8c"
      },
      "execution_count": null,
      "outputs": [
        {
          "output_type": "stream",
          "name": "stdout",
          "text": [
            "(0, 7)\n",
            "(0, 10)\n",
            "(0, 10)\n",
            "(2, 10)\n",
            "(1, 6)\n",
            "(2, 7)\n",
            "(2.5, 4)\n",
            "(7, 8)\n",
            "(5, 6)\n",
            "(4, 9)\n"
          ]
        },
        {
          "output_type": "display_data",
          "data": {
            "image/png": "[encoded data removed]",
            "text/plain": [
              "<Figure size 600x200 with 1 Axes>"
            ]
          },
          "metadata": {
            "needs_background": "light"
          }
        }
      ]
    },
    {
      "cell_type": "code",
      "source": [
        ""
      ],
      "metadata": {
        "id": "3J6Izo0LlGiD"
      },
      "execution_count": null,
      "outputs": []
    }
  ]
}